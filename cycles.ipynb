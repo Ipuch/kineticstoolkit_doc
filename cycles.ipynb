{
 "cells": [
  {
   "cell_type": "markdown",
   "metadata": {},
   "source": [
    "Detecting and normalizing cycles\n",
    "================================"
   ]
  },
  {
   "cell_type": "markdown",
   "metadata": {},
   "source": [
    "The [cycles](api/kineticstoolkit.cycles.rst) module allows detecting cycles in TimeSeries, time-normalize these cycles and find the most repeatable ones.\n",
    "\n",
    "In this tutorial, we will use kinetics data from wheelchair propulsion using a csv file."
   ]
  },
  {
   "cell_type": "code",
   "execution_count": null,
   "metadata": {},
   "outputs": [],
   "source": [
    "import kineticstoolkit.lab as ktk\n",
    "import pandas as pd\n",
    "import numpy as np\n",
    "import matplotlib.pyplot as plt\n",
    "\n",
    "# Load the instrumented wheel's csv file\n",
    "filename = ktk.config.root_folder + '/data/pushrimkinetics/sample_sw_csvtxt.csv'\n",
    "\n",
    "ts = ktk.pushrimkinetics.read_file(filename, file_format='smartwheel')\n",
    "ts.data"
   ]
  },
  {
   "cell_type": "markdown",
   "metadata": {},
   "source": [
    "At this point, we have a TimeSeries that contains several signals, including forces and moments."
   ]
  },
  {
   "cell_type": "code",
   "execution_count": null,
   "metadata": {},
   "outputs": [],
   "source": [
    "plt.subplot(2, 1, 1)\n",
    "ts.plot('Forces')\n",
    "plt.subplot(2, 1, 2)\n",
    "ts.plot('Moments')\n",
    "plt.tight_layout()"
   ]
  },
  {
   "cell_type": "markdown",
   "metadata": {},
   "source": [
    "Detecting cycles\n",
    "----------------\n",
    "\n",
    "The [cycles.detect_cycles()](api/kineticstoolkit.cycles.detect_cycles.rst) function allows detecting cycles in a TimeSeries, using one specified signal from this TimeSeries. Here, this signal will be the total force Ftot.\n",
    "\n",
    "We first calculate it based on the three force components and we add it as a new data of the TimeSeries."
   ]
  },
  {
   "cell_type": "code",
   "execution_count": null,
   "metadata": {},
   "outputs": [],
   "source": [
    "ts.data['Ftot'] = np.sqrt(np.sum(ts.data['Forces'] ** 2, 1))\n",
    "ts.plot(['Forces', 'Ftot'])\n",
    "plt.tight_layout()"
   ]
  },
  {
   "cell_type": "markdown",
   "metadata": {},
   "source": [
    "Now let see how detecting cycles works. We will define the threshold values in Ftot visually based on the figure above."
   ]
  },
  {
   "cell_type": "code",
   "execution_count": null,
   "metadata": {},
   "outputs": [],
   "source": [
    "test = ktk.cycles.detect_cycles(ts, 'Ftot',\n",
    "                                event_names=['push', 'recovery'],\n",
    "                                thresholds=[10, 5])\n",
    "test.plot(['Forces', 'Ftot'])\n",
    "plt.tight_layout()"
   ]
  },
  {
   "cell_type": "markdown",
   "metadata": {},
   "source": [
    "We observe that most cycles are well identified, but a short spike at the beginning was wrongly identified as a cycle. This in fact is not a cycle, but a synchronization spike used to sync data between many instruments. We can reject such too short \"cycles\" by specifying minimal durations for both phases."
   ]
  },
  {
   "cell_type": "code",
   "execution_count": null,
   "metadata": {},
   "outputs": [],
   "source": [
    "test = ktk.cycles.detect_cycles(ts, 'Ftot',\n",
    "                                event_names=['push', 'recovery'],\n",
    "                                thresholds=[10, 5],\n",
    "                                min_durations=[0.2, 0.2])\n",
    "test.plot(['Forces', 'Ftot'])\n",
    "plt.tight_layout()"
   ]
  },
  {
   "cell_type": "markdown",
   "metadata": {},
   "source": [
    "Now the synchronization spike has been ignored. However we also see that the two last cycles seem different: this is because they are braking pushes instead of propulsion pushes. While the last one will be difficult to remove automatically, we could remove the second-to-last by using a minimal peak value for the push phase."
   ]
  },
  {
   "cell_type": "code",
   "execution_count": null,
   "metadata": {},
   "outputs": [],
   "source": [
    "ts_with_events = ktk.cycles.detect_cycles(ts, 'Ftot',\n",
    "                                          event_names=['push', 'recovery'],\n",
    "                                          thresholds=[10, 5],\n",
    "                                          min_durations=[0.2, 0.2],\n",
    "                                          min_peak_heights=[50, -np.Inf])\n",
    "ts_with_events.plot(['Forces', 'Ftot'])\n",
    "plt.tight_layout()"
   ]
  },
  {
   "cell_type": "markdown",
   "metadata": {},
   "source": [
    "We observe an `_` event at about 27 seconds. There are in fact such `_` events at the end of each cycle (look how each next push's 'p' letter seems underlined). This is because the `detect_cycles` function adds three events for each cycle:\n",
    "- Beginning of phase 1: `event_name1`\n",
    "- Transition from phase 1 to phase 2: `event_name2`\n",
    "- Cycle end: `_`."
   ]
  },
  {
   "cell_type": "markdown",
   "metadata": {},
   "source": [
    "Time-normalizing cycles\n",
    "-----------------------\n",
    "\n",
    "Once the cycles have been detected, we can time-normalize these cycles using [cycles.time_normalize()](api/kineticstoolkit.cycles.time_normalize.rst) to get them on the same time scale (a percentage of the cycle). Each of the 12 complete cycles is then time-normalized from 0 to 100%, with cycles being multiples of 100%."
   ]
  },
  {
   "cell_type": "code",
   "execution_count": null,
   "metadata": {},
   "outputs": [],
   "source": [
    "ts_normalized_on_cycle = ktk.cycles.time_normalize(ts_with_events, 'push', '_')\n",
    "plt.subplot(2,1,1)\n",
    "ts_normalized_on_cycle.plot(['Forces', 'Ftot'])\n",
    "plt.subplot(2,1,2)\n",
    "ts_normalized_on_cycle.plot('Moments')\n",
    "plt.tight_layout()"
   ]
  },
  {
   "cell_type": "markdown",
   "metadata": {},
   "source": [
    "To time-normalize only during the push phase, we define the cycle end as `recovery` instead of `_`. Each of the **13** complete pushes is then normalized from 0 to 100% of the push."
   ]
  },
  {
   "cell_type": "code",
   "execution_count": null,
   "metadata": {},
   "outputs": [],
   "source": [
    "ts_normalized_on_push = ktk.cycles.time_normalize(ts_with_events, 'push', 'recovery')\n",
    "plt.subplot(2,1,1)\n",
    "ts_normalized_on_push.plot(['Forces', 'Ftot'])\n",
    "plt.subplot(2,1,2)\n",
    "ts_normalized_on_push.plot('Moments')\n",
    "plt.tight_layout()"
   ]
  },
  {
   "cell_type": "markdown",
   "metadata": {},
   "source": [
    "It is also possible to include data before 0% and after 100% using the `span` parameter. For example, to include pre-push and post-release data:"
   ]
  },
  {
   "cell_type": "code",
   "execution_count": null,
   "metadata": {},
   "outputs": [],
   "source": [
    "ts_normalized_on_push_with_span = ktk.cycles.time_normalize(ts_with_events, 'push', 'recovery', span=[-20, 125])\n",
    "plt.subplot(2,1,1)\n",
    "ts_normalized_on_push_with_span.plot(['Forces', 'Ftot'])\n",
    "plt.subplot(2,1,2)\n",
    "ts_normalized_on_push_with_span.plot('Moments')\n",
    "plt.tight_layout()"
   ]
  },
  {
   "cell_type": "markdown",
   "metadata": {},
   "source": [
    "Note that in this case, each time point represents 1% of a push cycle, but the TimeSeries wrap every 145 points (0 to 19 is the pre-push for the first cycle, 20 to 119 is the first push, 120 to 144 is the post-release for the first cycle, etc.)."
   ]
  },
  {
   "cell_type": "markdown",
   "metadata": {},
   "source": [
    "Combining the cycles\n",
    "--------------------\n",
    "Time-normalizing cycles is often performed in the aim of performing further operations such as computing and visualizing the average cycle. Therefore, the next logical step is often to group the cycles into indexable arrays. This can be done using the [cycles.stack()](api/kineticstoolkit.cycles.stack.rst) function.\n",
    "\n",
    "In this example, we will stack the data from the last computed TimeSeries."
   ]
  },
  {
   "cell_type": "code",
   "execution_count": null,
   "metadata": {},
   "outputs": [],
   "source": [
    "data = ktk.cycles.stack(ts_normalized_on_push)\n",
    "data"
   ]
  },
  {
   "cell_type": "markdown",
   "metadata": {},
   "source": [
    "The first dimension of each dictionary's entry corresponds to the cycles. It now becomes easier to perform operations on cycles. For example, we may want to plot the propulsive moment `Mz` (`Moments[2]`) in each cycle one of top of the other:"
   ]
  },
  {
   "cell_type": "code",
   "execution_count": null,
   "metadata": {},
   "outputs": [],
   "source": [
    "# Plot every cycles\n",
    "for i_cycle in range(13):\n",
    "    plt.plot(data['Ftot'][i_cycle], label=f\"Cycle {i_cycle}\")\n",
    "    \n",
    "# Plot the average cycle\n",
    "plt.plot(\n",
    "    np.mean(data['Ftot'], axis=0),\n",
    "    'k:', linewidth=4, label=\"Average\")\n",
    "\n",
    "plt.legend()\n",
    "plt.tight_layout()"
   ]
  },
  {
   "cell_type": "markdown",
   "metadata": {},
   "source": [
    "Finding the most repeatable cycles\n",
    "----------------------------------\n",
    "\n",
    "In the previous step, we calculated an average cycle. However, this average cycle was calculated on cycles that were very different between each other. We can use the [cycles.most_repeatable_cycles()](api/kineticstoolkit.cycles.most_repeatable_cycles.rst) function to obtain an ordered list from the most repeatable cycles to the most different one. Here, we will base this analysis on the `Ftot` signal."
   ]
  },
  {
   "cell_type": "code",
   "execution_count": null,
   "metadata": {},
   "outputs": [],
   "source": [
    "index = ktk.cycles.most_repeatable_cycles(data['Ftot'])\n",
    "index                             "
   ]
  },
  {
   "cell_type": "markdown",
   "metadata": {},
   "source": [
    "We see that cycles 12 (last) and 0 (first) were expectedly found as the least repeatable pushes since they are respectively a braking push and an acceleration push. Now let's make the same plot of `Mz`, but based only on the five most repeatable cycles."
   ]
  },
  {
   "cell_type": "code",
   "execution_count": null,
   "metadata": {},
   "outputs": [],
   "source": [
    "# Plot every cycles\n",
    "for i_cycle in index[0:5]:\n",
    "    plt.plot(data['Ftot'][i_cycle], label=f\"Cycle {i_cycle}\")\n",
    "    \n",
    "# Plot the average cycle\n",
    "plt.plot(\n",
    "    np.mean(data['Ftot'][index[0:5]], axis=0),\n",
    "    'k:', linewidth=4, label=\"Average\")\n",
    "\n",
    "plt.legend()\n",
    "plt.tight_layout()"
   ]
  },
  {
   "cell_type": "markdown",
   "metadata": {},
   "source": [
    "For more information on cycles, please check the [API Reference for the cycles module](api/kineticstoolkit.cycles.rst)."
   ]
  }
 ],
 "metadata": {
  "kernelspec": {
   "display_name": "Python 3 (ipykernel)",
   "language": "python",
   "name": "python3"
  },
  "language_info": {
   "codemirror_mode": {
    "name": "ipython",
    "version": 3
   },
   "file_extension": ".py",
   "mimetype": "text/x-python",
   "name": "python",
   "nbconvert_exporter": "python",
   "pygments_lexer": "ipython3",
   "version": "3.8.10"
  }
 },
 "nbformat": 4,
 "nbformat_minor": 4
}
