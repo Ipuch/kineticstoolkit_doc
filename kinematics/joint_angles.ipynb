{
 "cells": [
  {
   "cell_type": "markdown",
   "metadata": {},
   "source": [
    "Calculating joint angles from a kinematic acquisition\n",
    "=====================================================\n",
    "\n",
    "In this tutorial, we will calculate the elbow joint angles in the acquisition presented in the previous section. At the end of the tutorial, we will have plotted curves of elbow flexion and pronation angles during the complete acquisition.\n",
    "\n",
    "Such an analysis is composed of the following steps:\n",
    "\n",
    "**Step 1.** Read the marker trajectories\n",
    "\n",
    "For each of the analyzed joint:\n",
    "\n",
    "**Step 2.** We calculate series of frames to express the orientation of the two segments that compose this joint (how are both segments oriented in space);\n",
    "\n",
    "**Step 3.** We express a series of homogeneous transforms between the proximal and distal frames (how the distal segment is oriented in space compared to the proximal segment);\n",
    "\n",
    "**Step 4.** We extract the series of Euler angles from these homogeneous transforms (what series of three angles allow such relative orientation);\n",
    "\n",
    "**Step 5.** We interpret these Euler angle as rotations around anatomical axes."
   ]
  },
  {
   "cell_type": "code",
   "execution_count": null,
   "metadata": {},
   "outputs": [],
   "source": [
    "import kineticstoolkit.lab as ktk"
   ]
  },
  {
   "cell_type": "markdown",
   "metadata": {},
   "source": [
    "Read and visualize marker trajectories\n",
    "--------------------------------------\n",
    "\n",
    "We proceed exactly as in the previous tutorial:"
   ]
  },
  {
   "cell_type": "code",
   "execution_count": null,
   "metadata": {},
   "outputs": [],
   "source": [
    "# Read the markers\n",
    "markers = ktk.kinematics.read_c3d_file(\n",
    "    ktk.config.root_folder + '/data/kinematics/racing_full.c3d')\n",
    "\n",
    "# Set the point of view for 3D visualization\n",
    "viewing_options = {\n",
    "    'zoom': 3.5,\n",
    "    'azimuth': 0.8,\n",
    "    'elevation': 0.16,\n",
    "    'translation': (0.2, -0.7)\n",
    "}\n",
    "\n",
    "# Define the segments for easier visualization\n",
    "segments = {\n",
    "    'ArmR': {\n",
    "        'Color': [1, 0.25, 0],\n",
    "        'Links': [['AcromionR', 'MedialEpicondyleR'],\n",
    "                  ['AcromionR', 'LateralEpicondyleR'],\n",
    "                  ['AcromionR', 'OlecraneR']]\n",
    "    },\n",
    "    'ForearmR': {\n",
    "        'Color': [1, 0.5, 0],\n",
    "        'Links': [['MedialEpicondyleR', 'RadialStyloidR'],\n",
    "                  ['MedialEpicondyleR', 'UlnarStyloidR'],\n",
    "                  ['LateralEpicondyleR', 'RadialStyloidR'],\n",
    "                  ['LateralEpicondyleR', 'UlnarStyloidR'],\n",
    "                  ['OlecraneR', 'RadialStyloidR'],\n",
    "                  ['OlecraneR', 'UlnarStyloidR'],\n",
    "                  ['UlnarStyloidR', 'RadialStyloidR']]\n",
    "    }\n",
    "}\n",
    "\n",
    "# Create the player\n",
    "player = ktk.Player(markers, segments=segments, **viewing_options)\n",
    "\n",
    "# Show one second (only needed in Notebooks)\n",
    "player.to_html5(start_time=0, stop_time=1)"
   ]
  },
  {
   "cell_type": "markdown",
   "metadata": {},
   "source": [
    "Create local coordinate systems\n",
    "-------------------------------\n",
    "\n",
    "To calculate the elbow angles, we need to express frames for the arm and forearm segments. The elbow angles will be extracted from the homogeneous transform between both frames.\n",
    "\n",
    "We will use the recommendations of the International Society of Biomechanics [1] to define these local coordinate systems:"
   ]
  },
  {
   "cell_type": "markdown",
   "metadata": {},
   "source": [
    "### Arm coordinate system ###\n",
    "\n",
    "Following the ISB recommendations, the local coordinate system for the humerus is defined as follow:\n",
    "\n",
    "**1. The origin is GH (glenohumeral joint).**\n",
    "\n",
    "We don't have a marker for the glenohumeral join, but we have one for the acromion. We will therefore approximate GH by the acromion."
   ]
  },
  {
   "cell_type": "code",
   "execution_count": null,
   "metadata": {},
   "outputs": [],
   "source": [
    "origin = markers.data['AcromionR']"
   ]
  },
  {
   "cell_type": "markdown",
   "metadata": {},
   "source": [
    "**2. The y axis is the line between GH and the midpoint of EL (lateral elbow epicondyle) and EM (medial elbow epicondyle), pointing to GH**"
   ]
  },
  {
   "cell_type": "code",
   "execution_count": null,
   "metadata": {},
   "outputs": [],
   "source": [
    "y = (markers.data['AcromionR'] -\n",
    "     0.5 * (markers.data['LateralEpicondyleR'] +\n",
    "            markers.data['MedialEpicondyleR']))"
   ]
  },
  {
   "cell_type": "markdown",
   "metadata": {},
   "source": [
    "**3. The x axis is the normal to the GH-EL-EM plane, pointing forward**\n",
    "\n",
    "Since x is normal to the GH-EL-EM plane, this plane is a yz plane. We need to define a second vector (other than y) to form this yz plane.  "
   ]
  },
  {
   "cell_type": "code",
   "execution_count": null,
   "metadata": {},
   "outputs": [],
   "source": [
    "yz = markers.data['LateralEpicondyleR'] - markers.data['MedialEpicondyleR']"
   ]
  },
  {
   "cell_type": "markdown",
   "metadata": {},
   "source": [
    "Note that the direction of the yz vector is important. For the plane normal to be forward, the cross product of y and yz must also point forward. In this case, following the [right-hand/screw rule](https://en.wikipedia.org/wiki/Right-hand_rule), y (upward) cross yz (right) effectively yields a forward vector.\n",
    "\n",
    "As an easier rule of thumb, look at the next definition: the z vector will point to right. Then just make the yz vector also point to (grossly) right."
   ]
  },
  {
   "cell_type": "markdown",
   "metadata": {},
   "source": [
    "**4. The z axis is perpendicular to x and y, pointing to the right.**\n",
    "\n",
    "We have now defined everything to create the series of humerus frame.\n",
    "\n",
    "Let's first create an empty TimeSeries for our new frames:"
   ]
  },
  {
   "cell_type": "code",
   "execution_count": null,
   "metadata": {},
   "outputs": [],
   "source": [
    "frames = ktk.TimeSeries(time=markers.time)"
   ]
  },
  {
   "cell_type": "markdown",
   "metadata": {},
   "source": [
    "Now, we will create the `ArmR` frame series."
   ]
  },
  {
   "cell_type": "code",
   "execution_count": null,
   "metadata": {},
   "outputs": [],
   "source": [
    "frames.data['ArmR'] = ktk.geometry.create_frames(\n",
    "            origin=origin, y=y, yz=yz)"
   ]
  },
  {
   "cell_type": "markdown",
   "metadata": {},
   "source": [
    "Let's visualize it:"
   ]
  },
  {
   "cell_type": "code",
   "execution_count": null,
   "metadata": {},
   "outputs": [],
   "source": [
    "player = ktk.Player(markers, frames,\n",
    "                    segments=segments, **viewing_options)\n",
    "\n",
    "# Show one second in this Jupyter notebook\n",
    "player.to_html5(start_time=0, stop_time=1)"
   ]
  },
  {
   "cell_type": "markdown",
   "metadata": {},
   "source": [
    "### Forearm frame ###\n",
    "\n",
    "We will now proceed with the exact same steps to create the forearm coordinate system. From the ISB [1]:\n",
    "\n",
    "**1. The origin is US (ulnar styloid process).**"
   ]
  },
  {
   "cell_type": "code",
   "execution_count": null,
   "metadata": {},
   "outputs": [],
   "source": [
    "origin = markers.data['UlnarStyloidR']"
   ]
  },
  {
   "cell_type": "markdown",
   "metadata": {},
   "source": [
    "**2. The y axis is the line between US and the midpoint between EL and EM, pointing proximally.**"
   ]
  },
  {
   "cell_type": "code",
   "execution_count": null,
   "metadata": {},
   "outputs": [],
   "source": [
    "y = (0.5 * (markers.data['LateralEpicondyleR'] +\n",
    "            markers.data['MedialEpicondyleR']) -\n",
    "     markers.data['UlnarStyloidR'])"
   ]
  },
  {
   "cell_type": "markdown",
   "metadata": {},
   "source": [
    "**3. The x axis is the line perpendicular to the plane through US, RS, and the midpoint between EL and EM, pointing forward.**\n",
    "\n",
    "**4. The z axis is perpendicular to x and y, pointing to the right.**\n",
    "\n",
    "This means that US, RS and the elbow center make an yz plane. Since z will point to the right in anatomical position, we will create a yz vector that points grossly to the right in anatomical position."
   ]
  },
  {
   "cell_type": "code",
   "execution_count": null,
   "metadata": {},
   "outputs": [],
   "source": [
    "yz = markers.data['RadialStyloidR'] - markers.data['UlnarStyloidR']"
   ]
  },
  {
   "cell_type": "markdown",
   "metadata": {},
   "source": [
    "We are now ready to create the `ForearmR` frame series."
   ]
  },
  {
   "cell_type": "code",
   "execution_count": null,
   "metadata": {},
   "outputs": [],
   "source": [
    "frames.data['ForearmR'] = ktk.geometry.create_frames(\n",
    "            origin=origin, y=y, yz=yz)"
   ]
  },
  {
   "cell_type": "markdown",
   "metadata": {},
   "source": [
    "Let's visualize our markers with both new frames:"
   ]
  },
  {
   "cell_type": "code",
   "execution_count": null,
   "metadata": {},
   "outputs": [],
   "source": [
    "player = ktk.Player(markers, frames,\n",
    "                    segments=segments, **viewing_options)\n",
    "\n",
    "# Show one second in this Jupyter notebook\n",
    "player.to_html5(start_time=0, stop_time=1)"
   ]
  },
  {
   "cell_type": "markdown",
   "metadata": {},
   "source": [
    "Find the series of homogeneous transforms between both segments\n",
    "---------------------------------------------------------------\n",
    "\n",
    "Now that we have expressed frames for both the arm and forearm, we can find the homogeneous transform between both frames. This is equivalent to expressing the forearm frame in the local coordinates system of the arm."
   ]
  },
  {
   "cell_type": "code",
   "execution_count": null,
   "metadata": {},
   "outputs": [],
   "source": [
    "arm_to_forearm = ktk.geometry.get_local_coordinates(\n",
    "    frames.data['ForearmR'],\n",
    "    frames.data['ArmR']\n",
    ")\n",
    "\n",
    "arm_to_forearm"
   ]
  },
  {
   "cell_type": "markdown",
   "metadata": {},
   "source": [
    "Extract the series of Euler angles\n",
    "----------------------------------\n",
    "\n",
    "We now have a series of homogeneous matrices, from which we will now extract Euler angles corresponding to flexion and pronation. We will use the [geometry.get_angles()](../api/kineticstoolkit.geometry.get_angles.rst) function to extract these Euler angles. We however fist need to define the sequence of rotation for these angles. Still following the recommendations of the International Society of Biomechanics [1], we define the series of rotations from the arm to forearm as:\n",
    "\n",
    "**First rotation:** Around the humerus' z axis. Corresponds to a flexion (positive) or hyperextension (negative).\n",
    "\n",
    "**Second rotation:** Around the forearm's rotated x axis. Corresponds to a \"carrying angle\" due to a tilt in the humeral flexion/extension axis at the humero-ulnar joint and an angulation of the ulna itself.\n",
    "\n",
    "**Third rotation:** Around the forearm's rotated y axis. Corresponds to a pronation (positive) or supination (negative).\n",
    "\n",
    "These rotations are relative to moving axes (every other rotation is performed around a new frame generated by the previous rotation). Therefore, we will use 'ZXY' (capital letters) as the sequence of rotations."
   ]
  },
  {
   "cell_type": "code",
   "execution_count": null,
   "metadata": {},
   "outputs": [],
   "source": [
    "euler_angles = ktk.geometry.get_angles(arm_to_forearm, 'ZXY', degrees=True)\n",
    "\n",
    "euler_angles"
   ]
  },
  {
   "cell_type": "markdown",
   "metadata": {},
   "source": [
    "Plot the Euler angles\n",
    "---------------------\n",
    "\n",
    "Now that we calculated the angles, it would be a good idea to create a last TimeSeries to keep track of the time and meaning of these angles."
   ]
  },
  {
   "cell_type": "code",
   "execution_count": null,
   "metadata": {},
   "outputs": [],
   "source": [
    "angles = ktk.TimeSeries(time=markers.time)\n",
    "\n",
    "angles.data['Elbow flexion'] = euler_angles[:, 0]\n",
    "angles.data['Forearm pronation'] = euler_angles[:, 2]\n",
    "\n",
    "angles.add_data_info('Elbow flexion', 'Unit', 'deg')\n",
    "angles.add_data_info('Forearm pronation', 'Unit', 'deg')"
   ]
  },
  {
   "cell_type": "markdown",
   "metadata": {},
   "source": [
    "Now we plot it."
   ]
  },
  {
   "cell_type": "code",
   "execution_count": null,
   "metadata": {},
   "outputs": [],
   "source": [
    "angles.plot()"
   ]
  },
  {
   "cell_type": "markdown",
   "metadata": {},
   "source": [
    "From this curve, we can now see that the elbow goes from a total extension to a flexion of about 100 degrees, while the forearm stays in a pronated angle of about 125 to 170 degrees (defined from a fully supinated position in anatomical position).\n",
    "\n",
    "The process would be identical for any joint:\n",
    "\n",
    "1. Create the series of reference frames for the two segments that compose the analyzed joint;\n",
    "2. Express the series of rigid transforms from the proximal to distal joint;\n",
    "3. Extract the series of Euler angles from these rigid transforms;\n",
    "4. Interpret these Euler angle as anatomical rotation."
   ]
  },
  {
   "cell_type": "markdown",
   "metadata": {},
   "source": [
    "[1] G. Wu et al., \"ISB recommendation on definitions of joint coordinate systems of various joints for the reporting of human joint motion - Part II: shoulder, elbow, wrist and hand,\" Journal of Biomechanics, vol. 38, no. 5, pp. 981--992, 2005."
   ]
  }
 ],
 "metadata": {
  "kernelspec": {
   "display_name": "Python 3",
   "language": "python",
   "name": "python3"
  },
  "language_info": {
   "codemirror_mode": {
    "name": "ipython",
    "version": 3
   },
   "file_extension": ".py",
   "mimetype": "text/x-python",
   "name": "python",
   "nbconvert_exporter": "python",
   "pygments_lexer": "ipython3",
   "version": "3.8.10"
  }
 },
 "nbformat": 4,
 "nbformat_minor": 4
}
