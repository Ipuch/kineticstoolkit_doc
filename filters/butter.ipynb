{
 "cells": [
  {
   "cell_type": "markdown",
   "metadata": {},
   "source": [
    "Removing frequencies using a Butterworth filter\n",
    "===============================================\n",
    "\n",
    "The Butterworth filter may be the most used filter in biomechanics. It targets ranges of frequencies to remove from the signal's frequency spectrum. A classic use is to estimate the frequency range of both the data and noise, then use the filter to keep most of the data's frequency range while filtering out most of the noise's frequency range. In this tutorial, we will see how to apply Butterworth filters on TimeSeries data, using the [filters.butter()](../api/kineticstoolkit.filters.butter.rst) function."
   ]
  },
  {
   "cell_type": "code",
   "execution_count": null,
   "metadata": {},
   "outputs": [],
   "source": [
    "import kineticstoolkit.lab as ktk\n",
    "import matplotlib.pyplot as plt"
   ]
  },
  {
   "cell_type": "markdown",
   "metadata": {},
   "source": [
    "We begin by loading some sample data:"
   ]
  },
  {
   "cell_type": "code",
   "execution_count": null,
   "metadata": {},
   "outputs": [],
   "source": [
    "ts_noisy = ktk.load(\n",
    "    ktk.config.root_folder + '/data/filters/sample_noisy.ktk.zip')\n",
    "\n",
    "ts_noisy.plot()\n",
    "plt.title('Noisy signals')\n",
    "plt.tight_layout()"
   ]
  },
  {
   "cell_type": "markdown",
   "metadata": {},
   "source": [
    "Low-pass no-lag filter\n",
    "----------------------\n",
    "Here is an example of how to filter out high frequencies using a no-lag Butterworth filter of order 2:"
   ]
  },
  {
   "cell_type": "code",
   "execution_count": null,
   "metadata": {},
   "outputs": [],
   "source": [
    "plt.subplot(1, 3, 1)\n",
    "ts_noisy.plot()\n",
    "plt.title('Before filtering')\n",
    "\n",
    "plt.subplot(1, 3, 2)\n",
    "temp = ktk.filters.butter(ts_noisy, fc=20)\n",
    "temp.plot()\n",
    "plt.title('Low-pass 2nd order at 20 Hz')\n",
    "plt.tight_layout()\n",
    "\n",
    "plt.subplot(1, 3, 3)\n",
    "temp = ktk.filters.butter(ts_noisy, fc=4)\n",
    "temp.plot()\n",
    "plt.title('Low-pass 2nd order at 4 Hz')\n",
    "plt.tight_layout()"
   ]
  },
  {
   "cell_type": "markdown",
   "metadata": {},
   "source": [
    "As expected, when filtering lower frequencies, the signal is clearer but transitions are less sharp and some very dynamic information may be lost."
   ]
  },
  {
   "cell_type": "markdown",
   "metadata": {},
   "source": [
    "High-pass no-lag filter\n",
    "----------------------\n",
    "Here is an example of how to filter out low frequencies using a no-lag Butterworth filter of order 2."
   ]
  },
  {
   "cell_type": "code",
   "execution_count": null,
   "metadata": {},
   "outputs": [],
   "source": [
    "plt.subplot(1, 2, 1)\n",
    "ts_noisy.plot()\n",
    "plt.title('Before filtering')\n",
    "\n",
    "plt.subplot(1, 2, 2)\n",
    "temp = ktk.filters.butter(ts_noisy, btype='highpass', fc=60)\n",
    "temp.plot()\n",
    "plt.title('High-pass 2nd order at 60 Hz')\n",
    "plt.tight_layout()\n"
   ]
  },
  {
   "cell_type": "markdown",
   "metadata": {},
   "source": [
    "As expected, only the transitions are kept; all the stable parts of the signal were removed."
   ]
  },
  {
   "cell_type": "markdown",
   "metadata": {},
   "source": [
    "Real-world example using electromyographic data\n",
    "-----------------------------------------------\n",
    "\n",
    "TODO"
   ]
  }
 ],
 "metadata": {
  "kernelspec": {
   "display_name": "Python 3",
   "language": "python",
   "name": "python3"
  },
  "language_info": {
   "codemirror_mode": {
    "name": "ipython",
    "version": 3
   },
   "file_extension": ".py",
   "mimetype": "text/x-python",
   "name": "python",
   "nbconvert_exporter": "python",
   "pygments_lexer": "ipython3",
   "version": "3.8.10"
  }
 },
 "nbformat": 4,
 "nbformat_minor": 4
}
