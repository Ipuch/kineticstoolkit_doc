{
 "cells": [
  {
   "cell_type": "markdown",
   "metadata": {},
   "source": [
    "Smoothing and deriving using a Savitzky-Golay filter\n",
    "====================================================\n",
    "\n",
    "The Savitzky-Golay filter is a generalization of the moving average. Instead of taking the mean of the n points of a moving window, the Savitzky-Golay filter fits a polynomial over each window. It is a powerful filter for data that is heavily quantized, particularly if we want to derivate these data. In this tutorial, we will see how to apply Savitzky-Golay filters on TimeSeries data, using the [filters.savgol()](../api/kineticstoolkit.filters.savgol.rst) function."
   ]
  },
  {
   "cell_type": "code",
   "execution_count": null,
   "metadata": {},
   "outputs": [],
   "source": [
    "import kineticstoolkit.lab as ktk\n",
    "import matplotlib.pyplot as plt"
   ]
  },
  {
   "cell_type": "markdown",
   "metadata": {},
   "source": [
    "We will first load some noisy data:"
   ]
  },
  {
   "cell_type": "code",
   "execution_count": null,
   "metadata": {},
   "outputs": [],
   "source": [
    "ts = ktk.load(\n",
    "    ktk.config.root_folder + '/data/filters/sample_noises.ktk.zip')\n",
    "\n",
    "# Plot it\n",
    "ts.plot(['clean', 'quantized'], marker='.')\n",
    "plt.grid(True)\n",
    "plt.tight_layout()"
   ]
  },
  {
   "cell_type": "markdown",
   "metadata": {},
   "source": [
    "Smoothing using a Savitzky-Golay filter\n",
    "---------------------------------------\n",
    "\n",
    "Let's try to smooth the non-derived signal using a second-order Savitzky-Golay filter with a window length of 7."
   ]
  },
  {
   "cell_type": "code",
   "execution_count": null,
   "metadata": {},
   "outputs": [],
   "source": [
    "filtered = ktk.filters.savgol(ts, poly_order=2, window_length=7)\n",
    "\n",
    "ts.plot(['clean', 'quantized'], marker='.', linestyle='--')\n",
    "filtered.plot(['quantized'], marker='.', color='k')\n",
    "\n",
    "plt.title('Smoothed signal using a Savitzky-Golay filter of order=2 and window_length=7')\n",
    "plt.grid(True)\n",
    "plt.tight_layout()"
   ]
  },
  {
   "cell_type": "markdown",
   "metadata": {},
   "source": [
    "Deriving using a Savitzky-Golay filter\n",
    "--------------------------------------\n",
    "\n",
    "This sort of signal that suffers from bad resolution is very difficult to derivate because it is filled with fast-changing plateaus:"
   ]
  },
  {
   "cell_type": "code",
   "execution_count": null,
   "metadata": {},
   "outputs": [],
   "source": [
    "# Try to derivate\n",
    "derivate = ktk.filters.deriv(ts)\n",
    "\n",
    "# Plot it\n",
    "derivate.plot(['clean', 'quantized'], marker='.')\n",
    "plt.grid(True)\n",
    "plt.tight_layout()"
   ]
  },
  {
   "cell_type": "markdown",
   "metadata": {},
   "source": [
    "Since the Savitzky-Golay filter fits a polynom instead of just smoothing the signal, then the derivative of the filtered signal is automatically given by deriving the polynom instead of the signal. Let's see the result with the same filtering conditions:"
   ]
  },
  {
   "cell_type": "code",
   "execution_count": null,
   "metadata": {},
   "outputs": [],
   "source": [
    "# Filter and derivate\n",
    "derivate_savgol = ktk.filters.savgol(ts, poly_order=2, window_length=7, deriv=1)\n",
    "\n",
    "# Plot it\n",
    "derivate.plot(['clean', 'quantized'], marker='.', linestyle='--')\n",
    "derivate_savgol.plot('quantized', marker='.', color='k')\n",
    "\n",
    "plt.title('Derived signal using a Savitzky-Golay filter of order=2 and window_length=7 (black)')\n",
    "plt.grid(True)\n",
    "plt.tight_layout()"
   ]
  },
  {
   "cell_type": "markdown",
   "metadata": {},
   "source": [
    "As observed, the derivative of the highly-quantized signal is very similar to the derivative of the clean signal."
   ]
  }
 ],
 "metadata": {
  "kernelspec": {
   "display_name": "Python 3",
   "language": "python",
   "name": "python3"
  },
  "language_info": {
   "codemirror_mode": {
    "name": "ipython",
    "version": 3
   },
   "file_extension": ".py",
   "mimetype": "text/x-python",
   "name": "python",
   "nbconvert_exporter": "python",
   "pygments_lexer": "ipython3",
   "version": "3.8.10"
  }
 },
 "nbformat": 4,
 "nbformat_minor": 4
}
