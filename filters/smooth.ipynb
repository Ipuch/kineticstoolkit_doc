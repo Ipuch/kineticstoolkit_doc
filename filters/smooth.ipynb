{
 "cells": [
  {
   "cell_type": "markdown",
   "metadata": {},
   "source": [
    "Smoothing signals using a moving average\n",
    "========================================\n",
    "\n",
    "The moving average is an excellent filter to remove noise that is related to a specific time pattern. The classic example is the day-to-day evaluation of a process that is sensible to week-ends (for example, the number of workers who enter a building). A moving average with a window length of 7 days is ideal to evaluate the generic trend of this signal without considering intra-week fluctuations. Although its use in biomechanics is less obvious, this filter may be useful in some situation. This tutorial will show how to use the [ktk.filters.smooth()](../api/kineticstoolkit.filters.smooth.rst) function on TimeSeries data."
   ]
  },
  {
   "cell_type": "code",
   "execution_count": null,
   "metadata": {},
   "outputs": [],
   "source": [
    "import kineticstoolkit.lab as ktk\n",
    "import matplotlib.pyplot as plt"
   ]
  },
  {
   "cell_type": "markdown",
   "metadata": {},
   "source": [
    "We will first load some noisy data:"
   ]
  },
  {
   "cell_type": "code",
   "execution_count": null,
   "metadata": {},
   "outputs": [],
   "source": [
    "ts = ktk.load(\n",
    "    ktk.config.root_folder + '/data/filters/sample_noises.ktk.zip')\n",
    "\n",
    "# Plot it\n",
    "ts.plot(['clean', 'periodic_noise'], marker='.')\n",
    "plt.grid(True)\n",
    "plt.tight_layout()"
   ]
  },
  {
   "cell_type": "markdown",
   "metadata": {},
   "source": [
    "In this signal, we observe that appart from random noise, there seems to be a periodic signal with a period of five seconds, that we may consider as noise. Since we consider these variations as noise and their period is constants, the moving average is a nice candidate for filtering out this noise."
   ]
  },
  {
   "cell_type": "code",
   "execution_count": null,
   "metadata": {},
   "outputs": [],
   "source": [
    "filtered = ktk.filters.smooth(ts, window_length=5)\n",
    "\n",
    "ts.plot(['clean', 'periodic_noise'], marker='.')\n",
    "\n",
    "filtered.plot('periodic_noise', marker='.', color='k')\n",
    "\n",
    "plt.title('Removing the fast, constant rate variation (black curve)')\n",
    "plt.grid(True)\n",
    "plt.tight_layout()"
   ]
  },
  {
   "cell_type": "markdown",
   "metadata": {},
   "source": [
    "As expected, the 5-sample period noise was completely removed. Some signal was however averaged and we therefore lost some dynamics in the signal."
   ]
  }
 ],
 "metadata": {
  "kernelspec": {
   "display_name": "Python 3",
   "language": "python",
   "name": "python3"
  },
  "language_info": {
   "codemirror_mode": {
    "name": "ipython",
    "version": 3
   },
   "file_extension": ".py",
   "mimetype": "text/x-python",
   "name": "python",
   "nbconvert_exporter": "python",
   "pygments_lexer": "ipython3",
   "version": "3.8.10"
  }
 },
 "nbformat": 4,
 "nbformat_minor": 4
}
