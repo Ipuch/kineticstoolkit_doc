{
 "cells": [
  {
   "cell_type": "markdown",
   "metadata": {},
   "source": [
    "Removing artefacts using a median filter\n",
    "========================================\n",
    "\n",
    "Sometimes, time-series data is filled with bad measures that really stand out from other data. If such data are impossible to remove at the source and there are not too many of those, then the median filter is a simple way to filter such artefacts. In this tutorial, we will see how to apply a median filter on TimeSeries data, using the [filters.median()](../api/kineticstoolkit.filters.median.rst) function."
   ]
  },
  {
   "cell_type": "code",
   "execution_count": null,
   "metadata": {},
   "outputs": [],
   "source": [
    "import kineticstoolkit.lab as ktk\n",
    "import matplotlib.pyplot as plt"
   ]
  },
  {
   "cell_type": "markdown",
   "metadata": {},
   "source": [
    "We will first load some noisy data:"
   ]
  },
  {
   "cell_type": "code",
   "execution_count": null,
   "metadata": {},
   "outputs": [],
   "source": [
    "ts = ktk.load(\n",
    "    ktk.config.root_folder + '/data/filters/sample_noises.ktk.zip')\n",
    "\n",
    "# Plot it\n",
    "ts.plot(['clean', 'artefacts'], marker='.')\n",
    "plt.grid(True)\n",
    "plt.tight_layout()"
   ]
  },
  {
   "cell_type": "markdown",
   "metadata": {},
   "source": [
    "We clearly see the bad values here. We can remove most of those by applying a median filter with a window length of 3, which will give, for each point, the average of the two points that are the closest together."
   ]
  },
  {
   "cell_type": "code",
   "execution_count": null,
   "metadata": {},
   "outputs": [],
   "source": [
    "filtered = ktk.filters.median(ts, window_length=3)\n",
    "\n",
    "ts.plot(['clean', 'artefacts'], marker='.')\n",
    "\n",
    "filtered.plot('artefacts', marker='.', color='k')\n",
    "\n",
    "plt.title('Removing most of the artefact using a median filter with a window length of 3 (black curve)')\n",
    "plt.grid(True)\n",
    "plt.tight_layout()"
   ]
  },
  {
   "cell_type": "markdown",
   "metadata": {},
   "source": [
    "Most artefacts were removed, but not the ones at 30 and 31 seconds. This is because there are two consecutive artefacts, and as such the median filter considers that at these times, the clean signal is the artefact. A more agressive filter with a larger window length could be used, at the expense of more signal loss."
   ]
  },
  {
   "cell_type": "code",
   "execution_count": null,
   "metadata": {},
   "outputs": [],
   "source": [
    "filtered = ktk.filters.median(ts, window_length=5)\n",
    "\n",
    "ts.plot(['clean', 'artefacts'], marker='.')\n",
    "\n",
    "filtered.plot('artefacts', marker='.', color='k')\n",
    "\n",
    "plt.title('Removing most of the artefact using a median filter with a window length of 5 (black curve)')\n",
    "plt.grid(True)\n",
    "plt.tight_layout()"
   ]
  }
 ],
 "metadata": {
  "kernelspec": {
   "display_name": "Python 3",
   "language": "python",
   "name": "python3"
  },
  "language_info": {
   "codemirror_mode": {
    "name": "ipython",
    "version": 3
   },
   "file_extension": ".py",
   "mimetype": "text/x-python",
   "name": "python",
   "nbconvert_exporter": "python",
   "pygments_lexer": "ipython3",
   "version": "3.8.10"
  }
 },
 "nbformat": 4,
 "nbformat_minor": 4
}
