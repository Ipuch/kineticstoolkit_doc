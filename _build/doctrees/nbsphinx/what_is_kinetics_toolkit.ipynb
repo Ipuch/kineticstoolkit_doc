{
 "cells": [
  {
   "cell_type": "markdown",
   "metadata": {},
   "source": [
    "What is Kinetics Toolkit\n",
    "========================\n",
    "\n",
    "[Kinetics Toolkit (ktk)](https://felixchenier.uqam.ca/kineticstoolkit) is an open-source, pure-python package of integrated classes and functions that aims to facilitate research in biomechanics using python.\n",
    "\n",
    "\n",
    "Statement of need\n",
    "-----------------\n",
    "\n",
    "I often witness students who rely on programmers to develop all the algorithmes they need to complete their projects. In my view, this strategy can undermine the student's formation and understanding of their data. I strongly believe that students and researchers in biomechanics do have the capability to program and perform biomechanical analyses by themselves. This may be even truer these days, when programming and biomechanics are more accessible than ever. They however need adequate resources.\n",
    "\n",
    "While traditionally, biomechanical analysis were performed in lab using custom, unshared algorithms, the last few years have been marked by the development of several powerful open-source tools in biomechanics (e.g., Opensim, biordb, BiomechZoo, etc.). However, many of these tools are specific (e.g., musculoskeletal modelling, neuromuscular optimization, etc.) and not suited for generic analysis of human motion by untrained programmers.\n",
    "\n",
    "Speaking of untrained programmers, programming is not accessible for everyone. Excel, which may be the most easy-to-learn \"programming\" software, may be sufficient for very basic 2D analyses, but falls short when more complexe analyses are needed. Compared to expensive (e.g., Matlab) and complex (e.g., C++) alternatives,  python wins in power and versatility and is largely used in scientific work. I believe python can be an ideal tool for new programmers in biomechanics.\n",
    "\n",
    "Therefore, Kinetics Toolkit aims to be a python library that is:\n",
    "\n",
    "- generic enough for basic analysis of human motion biomechanics but powerful enough to leverage the power of other, specialized biomechanical softwares;\n",
    "\n",
    "- easy to learn by untrained programmers, but also elegant and fun to use by experienced programmers.\n",
    "\n",
    "\n",
    "Objectives of this project\n",
    "--------------------------\n",
    "\n",
    "- Build an intuitive and elegant python package that leverages the power of biomechanical analysis to people who are not formed in programming or engineering;\n",
    "\n",
    "- Build a strong documentation around this package to:\n",
    "    - Teach or remind the basic principles of biomechanics to newcomers;\n",
    "    - Explain how Kinetics Toolkit implements these principles; \n",
    "    - Teach users how to use Kinetics Toolkit on their data without relying on do-it-all graphical interfaces.\n",
    "    \n",
    "\n",
    "How to contribute\n",
    "-----------------\n",
    "\n",
    "At the moment, I think Kinetics Toolkit has made a moderate way into its first objective. There is however still much to do. If you are find this long-term project appealing and want to contribute, here are different ways to help:\n",
    "\n",
    "- Try it and tell me your thoughts and ideas on the interface, features and documentation;\n",
    "\n",
    "- Test it and report bugs;\n",
    "\n",
    "- Communicate with me to help with documentation;\n",
    "\n",
    "- Extend it to develop missing functionality and share the results;\n",
    "\n",
    "- Possibly many other ways to help.\n",
    "\n",
    "A good start would be to check out the [development website](https://felixchenier.uqam.ca/ktk_develop) or fork the repository on [GitHub](https://github.com/felixchenier/kineticstoolkit).\n",
    "\n",
    "I hope Kinetics Toolkit may help you in your biomechanical analyses; have a good read!"
   ]
  }
 ],
 "metadata": {
  "kernelspec": {
   "display_name": "Python 3",
   "language": "python",
   "name": "python3"
  },
  "language_info": {
   "codemirror_mode": {
    "name": "ipython",
    "version": 3
   },
   "file_extension": ".py",
   "mimetype": "text/x-python",
   "name": "python",
   "nbconvert_exporter": "python",
   "pygments_lexer": "ipython3",
   "version": "3.8.6"
  }
 },
 "nbformat": 4,
 "nbformat_minor": 4
}
