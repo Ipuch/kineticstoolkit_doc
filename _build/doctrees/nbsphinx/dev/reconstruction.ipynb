{
 "cells": [
  {
   "cell_type": "markdown",
   "metadata": {},
   "source": [
    "Reconstructing virtual markers (from kinematics module)\n",
    "=======================================================\n",
    "\n",
    ".. warning:: These features are experimental and will change names and signatures in the future.\n",
    "\n",
    "In this tutorial, we will reconstruct virtual markers for anatomic landmarks that were not physically instrumented during the movement acquisition. We usually do this kind of reconstruction when it is not practical or feasible to stick a marker on an anatomical landmark. Instead, we track a rigid body affixed to the whole segment, and express the position of this virtual marker relative to this rigid body.\n",
    "\n",
    "This is a relatively complex process that requires these additional \"calibration\" acquisitions:\n",
    "\n",
    "1. A static acquisition of a few seconds where we can see every marker.\n",
    "\n",
    "2. Probing acquisitions, one for each virtual marker. In each of these acquisitions of a few seconds, we point the anatomical landmark using a calibrated probe. We need to see the probe's markers and the markers of the rigid body affixed to the landmark's segment.\n",
    "\n",
    "\n",
    "This analysis is composed of the following steps:\n",
    "\n",
    "**Calibration steps:**\n",
    "\n",
    "**Step 1.** Define rigid body configurations (how are placed every markers one relative to the other on every rigid body);\n",
    "\n",
    "**Step 2.** Define virtual marker configurations (where are the anatomical landmarks relative to these rigid bodies);\n",
    "\n",
    "**Task analysis steps:**\n",
    "\n",
    "**Step 3.** Reconstruct series of rigid body's reference frames during the analyzed task (where are every segment and how are they oriented in space);\n",
    "\n",
    "**Step 4.** Reconstruct series of virtual markers during the analyzed tasks (where are the virtual markers relative to the segments' rigid bodies)."
   ]
  },
  {
   "cell_type": "code",
   "execution_count": null,
   "metadata": {},
   "outputs": [],
   "source": [
    "import kineticstoolkit.lab as ktk\n",
    "import numpy as np"
   ]
  },
  {
   "cell_type": "markdown",
   "metadata": {},
   "source": [
    "Read and visualize marker trajectories\n",
    "--------------------------------------\n",
    "\n",
    "We proceed exactly as in the previous tutorials, but this time we will perform the analysis based on a minimal set of markers. For the right arm and forearm, all we have is one real marker on the lateral epicondyle, and three markers on two rigid bodies affixed to the arm and forearm segments (we will show every other in blue for easier visualization)."
   ]
  },
  {
   "cell_type": "code",
   "execution_count": null,
   "metadata": {},
   "outputs": [],
   "source": [
    "# Read the markers\n",
    "markers = ktk.kinematics.read_c3d_file(\n",
    "    ktk.config.root_folder + '/data/kinematics/sample_propulsion.c3d')\n",
    "\n",
    "# Set every unnecessary markers to blue\n",
    "keep_white = ['LateralEpicondyleR', 'ArmR1', 'ArmR2', 'ArmR3',\n",
    "        'ForearmR1', 'ForearmR2', 'ForearmR3']\n",
    "\n",
    "for marker_name in markers.data:\n",
    "    if marker_name not in keep_white:\n",
    "        markers.add_data_info(marker_name, 'Color', 'b')\n",
    "\n",
    "# Set the point of view for 3D visualization\n",
    "viewing_options = {\n",
    "    'zoom': 3.5,\n",
    "    'azimuth': 0.8,\n",
    "    'elevation': 0.16,\n",
    "    'translation': (0.2, -0.7)\n",
    "}\n",
    "\n",
    "# Create the player\n",
    "player = ktk.Player(markers, **viewing_options)\n",
    "player.to_html5(start_time=0, stop_time=1)"
   ]
  },
  {
   "cell_type": "markdown",
   "metadata": {},
   "source": [
    "Calibration: Defining rigid body configurations using a static acquisition\n",
    "--------------------------------------------------------------------------\n",
    "\n",
    "One of the aims of the static trial is to have a sample where every marker is visible. We use this trial to define the rigid body configuration. A rigid body configuration is a list of markers that form a rigid body, along with their local position in the rigid body's reference frame.\n",
    "\n",
    "For this example, we will create reference frames for the rigid bodies 'ArmR' and 'ForearmR'."
   ]
  },
  {
   "cell_type": "code",
   "execution_count": null,
   "metadata": {},
   "outputs": [],
   "source": [
    "rigid_body_config = dict()  # Will contain the rigid body configurations.\n",
    "\n",
    "# Read the static trial\n",
    "static_markers = ktk.kinematics.read_c3d_file(\n",
    "    ktk.config.root_folder + '/data/kinematics/sample_static.c3d')\n",
    "\n",
    "# Show this trial, just to inspect it\n",
    "player = ktk.Player(static_markers, **viewing_options)\n",
    "player.to_html5(start_time=0, stop_time=0.5)"
   ]
  },
  {
   "cell_type": "markdown",
   "metadata": {},
   "source": [
    "We can not create a rigid body configuration for the arm:"
   ]
  },
  {
   "cell_type": "code",
   "execution_count": null,
   "metadata": {},
   "outputs": [],
   "source": [
    "rigid_body_config['ArmR'] = ktk.kinematics.create_rigid_body_config(\n",
    "    static_markers, ['ArmR1', 'ArmR2', 'ArmR3'])\n",
    "\n",
    "rigid_body_config['ArmR']"
   ]
  },
  {
   "cell_type": "markdown",
   "metadata": {},
   "source": [
    "We proceed the same way for the forearm:"
   ]
  },
  {
   "cell_type": "code",
   "execution_count": null,
   "metadata": {},
   "outputs": [],
   "source": [
    "rigid_body_config['ForearmR'] = ktk.kinematics.create_rigid_body_config(\n",
    "    static_markers, ['ForearmR1', 'ForearmR2', 'ForearmR3'])"
   ]
  },
  {
   "cell_type": "markdown",
   "metadata": {},
   "source": [
    "For the probe, we will create its rigid body configuration manually from its known specifications. Every 6 local point is expressed relative to a reference frame that is centered at the probe's tip:"
   ]
  },
  {
   "cell_type": "code",
   "execution_count": null,
   "metadata": {},
   "outputs": [],
   "source": [
    "rigid_body_config['Probe'] = {\n",
    "    'MarkerNames': ['Probe1', 'Probe2', 'Probe3',\n",
    "                    'Probe4', 'Probe5', 'Probe6'],\n",
    "    'LocalPoints': np.array([[\n",
    "        [ 0.0021213, 0.0021213, 0.0020575, 0.0021213,  0.0017070,  0.0017762],\n",
    "        [-0.0158328, 0.0158508, 0.0160096, 0.0161204, -0.0155780, -0.0156057],\n",
    "        [ 0.0864285, 0.0864285, 0.1309445, 0.1754395,  0.1753805,  0.1308888],\n",
    "        [ 1.,        1.,        1.,        1.,         1.,         1.       ]]]\n",
    "    )\n",
    "}"
   ]
  },
  {
   "cell_type": "markdown",
   "metadata": {},
   "source": [
    "Now that we created these rigid body configurations, we will be able to track the position and orientation of these segments and probe in every other acquisition. This process can be done using the [kinematics.register_markers()](../api/kineticstoolkit.kinematics.register_markers.rst) function.\n",
    "\n",
    "Although it is not necessary, let's see its action on the static acquisition we just processed."
   ]
  },
  {
   "cell_type": "code",
   "execution_count": null,
   "metadata": {},
   "outputs": [],
   "source": [
    "static_rigid_bodies = ktk.kinematics.register_markers(\n",
    "    static_markers,\n",
    "    rigid_body_config)\n",
    "\n",
    "player = ktk.Player(static_markers, static_rigid_bodies, **viewing_options)\n",
    "player.to_html5(start_time=0, stop_time=0.5)"
   ]
  },
  {
   "cell_type": "markdown",
   "metadata": {},
   "source": [
    "Calibration: Defining the virtual marker configurations based on probing acquisitions\n",
    "-------------------------------------------------------------------------------------\n",
    "\n",
    "Now we will go though every probing acquisition and apply the same process on each acquisition:\n",
    "\n",
    "1. Locate the probe and the segment's rigid body using [kinematics.register_markers()](../api/kineticstoolkit.kinematics.register_markers.rst) and the rigid body configurations we just created;\n",
    "\n",
    "2. Express the tip of the probe in the segment's local coordinate system;\n",
    "\n",
    "3. Create a virtual marker configuration using the probe tip's local position. For this step, we will be helped by the [kinematics.create_virtual_marker_config()](../api/kineticstoolkit.kinematics.create_virtual_marker_config.rst) function."
   ]
  },
  {
   "cell_type": "code",
   "execution_count": null,
   "metadata": {},
   "outputs": [],
   "source": [
    "virtual_marker_config = dict()  # Will contain all virtual marker configurations"
   ]
  },
  {
   "cell_type": "markdown",
   "metadata": {},
   "source": [
    "Since this is a repetitive operation, we will create a new function that will be called for each probing acquisition:"
   ]
  },
  {
   "cell_type": "code",
   "execution_count": null,
   "metadata": {},
   "outputs": [],
   "source": [
    "def process_probing_acquisition(file_name, rigid_body_name):\n",
    "\n",
    "    # Load the markers\n",
    "    probing_markers = ktk.kinematics.read_c3d_file(file_name)\n",
    "\n",
    "    # Calculate rigid body trajectories using these markers\n",
    "    probing_rigid_bodies = ktk.kinematics.register_markers(\n",
    "        probing_markers, rigid_body_config)\n",
    "\n",
    "    # Add the marker 'ProbeTip' in markers. This is the origin of the Probe\n",
    "    # rigid body.\n",
    "    probing_markers.data['ProbeTip'] = probing_rigid_bodies.data['Probe'][:, :, 3]\n",
    "\n",
    "    # Create the marker configuration\n",
    "    return ktk.kinematics.create_virtual_marker_config(\n",
    "            probing_markers, probing_rigid_bodies, 'ProbeTip', rigid_body_name)"
   ]
  },
  {
   "cell_type": "markdown",
   "metadata": {},
   "source": [
    "Now, we can process every probing acquisition."
   ]
  },
  {
   "cell_type": "code",
   "execution_count": null,
   "metadata": {},
   "outputs": [],
   "source": [
    "virtual_marker_config['AcromionR'] = process_probing_acquisition(\n",
    "    ktk.config.root_folder +\n",
    "    '/data/kinematics/sample_probing_acromion_R.c3d', 'ArmR')\n",
    "\n",
    "virtual_marker_config['MedialEpicondyleR'] = process_probing_acquisition(\n",
    "    ktk.config.root_folder +\n",
    "    '/data/kinematics/sample_probing_medial_epicondyle_R.c3d', 'ArmR')\n",
    "\n",
    "virtual_marker_config['RadialStyloidR'] = process_probing_acquisition(\n",
    "    ktk.config.root_folder + \n",
    "    '/data/kinematics/sample_probing_radial_styloid_R.c3d', 'ForearmR')\n",
    "\n",
    "virtual_marker_config['UlnarStyloidR'] = process_probing_acquisition(\n",
    "    ktk.config.root_folder + \n",
    "    '/data/kinematics/sample_probing_ulnar_styloid_R.c3d', 'ForearmR')"
   ]
  },
  {
   "cell_type": "markdown",
   "metadata": {},
   "source": [
    "For curiosity, let's see what is inside a virtual marker configuration:"
   ]
  },
  {
   "cell_type": "code",
   "execution_count": null,
   "metadata": {},
   "outputs": [],
   "source": [
    "virtual_marker_config['AcromionR']"
   ]
  },
  {
   "cell_type": "markdown",
   "metadata": {},
   "source": [
    "This is simply the position of the virtual marker in the `RigidBodyName` coordinate system."
   ]
  },
  {
   "cell_type": "markdown",
   "metadata": {},
   "source": [
    "Task analysis: Tracking the segments\n",
    "------------------------------------\n",
    "\n",
    "Now that we configured the rigid bodies and the virtual markers, we are ready to track the segments in the experimental trial we loaded at the beginning of this tutorial. To this effect, we will once again use the [kinematics.register_markers()](../api/kineticstoolkit.kinematics.register_markers.rst) function."
   ]
  },
  {
   "cell_type": "code",
   "execution_count": null,
   "metadata": {},
   "outputs": [],
   "source": [
    "# Compute the rigid body trajectories\n",
    "rigid_bodies = ktk.kinematics.register_markers(markers, rigid_body_config)\n",
    "\n",
    "# Show those rigid bodies and markers in a player\n",
    "player = ktk.Player(markers, rigid_bodies, **viewing_options)\n",
    "\n",
    "player.to_html5(start_time=0, stop_time=1)"
   ]
  },
  {
   "cell_type": "markdown",
   "metadata": {},
   "source": [
    "Task analysis: Reconstructing the virtual markers\n",
    "-------------------------------------------------\n",
    "\n",
    "Now that we reconstructed the rigid bodies' coordinate systems during the whole acquisition, we will use these coordinate systems to reconstruct the virtual markers. We will show these virtual markers in cyan."
   ]
  },
  {
   "cell_type": "code",
   "execution_count": null,
   "metadata": {},
   "outputs": [],
   "source": [
    "for virtual_marker in virtual_marker_config:\n",
    "    \n",
    "    # Extract the local coordinates for this virtual marker\n",
    "    local_coordinates = virtual_marker_config[virtual_marker]['LocalPoint']\n",
    "    \n",
    "    # Extract the coordinates system for its associate rigid body\n",
    "    rigid_body_name = virtual_marker_config[virtual_marker]['RigidBodyName']\n",
    "    reference_frame = rigid_bodies.data[rigid_body_name]\n",
    "    \n",
    "    # Get the global trajectory of this virtual marker\n",
    "    global_coordinates = ktk.geometry.get_global_coordinates(\n",
    "        local_coordinates, reference_frame)\n",
    "\n",
    "    # Add this trajectory to the markers TimeSeries and color it cyan.\n",
    "    markers.data[virtual_marker] = global_coordinates\n",
    "    markers.add_data_info(virtual_marker, 'Color', 'c')\n",
    "\n",
    "\n",
    "# Show the markers and rigid bodies in a player\n",
    "player = ktk.Player(markers, rigid_bodies, **viewing_options)\n",
    "player.to_html5(start_time=0, stop_time=1)"
   ]
  },
  {
   "cell_type": "markdown",
   "metadata": {},
   "source": [
    "That is it, we reconstructed the acromion, medial epicondyle and both styloids from probing acquisitions,  without physical markers on these landmarks. We can conclude by adding the segments for clearer visualization. From now one, we could continue our analysis and calculate the elbow angles as in the previous tutorial."
   ]
  },
  {
   "cell_type": "code",
   "execution_count": null,
   "metadata": {},
   "outputs": [],
   "source": [
    "# Add the segments\n",
    "segments = {\n",
    "    'ArmR': {\n",
    "        'Color': [1, 0.25, 0],\n",
    "        'Links': [['AcromionR', 'MedialEpicondyleR'],\n",
    "                  ['AcromionR', 'LateralEpicondyleR']]\n",
    "    },\n",
    "    'ForearmR': {\n",
    "        'Color': [1, 0.5, 0],\n",
    "        'Links': [['MedialEpicondyleR', 'RadialStyloidR'],\n",
    "                  ['MedialEpicondyleR', 'UlnarStyloidR'],\n",
    "                  ['LateralEpicondyleR', 'RadialStyloidR'],\n",
    "                  ['LateralEpicondyleR', 'UlnarStyloidR'],\n",
    "                  ['UlnarStyloidR', 'RadialStyloidR']]\n",
    "    }\n",
    "}\n",
    "\n",
    "player = ktk.Player(markers, segments=segments, **viewing_options)\n",
    "player.to_html5(start_time=0, stop_time=1)"
   ]
  },
  {
   "cell_type": "markdown",
   "metadata": {},
   "source": [
    "For more information on kinematics, please check the [API Reference for the kinematics module](../api/kineticstoolkit.kinematics.rst)."
   ]
  }
 ],
 "metadata": {
  "kernelspec": {
   "display_name": "Python 3",
   "language": "python",
   "name": "python3"
  },
  "language_info": {
   "codemirror_mode": {
    "name": "ipython",
    "version": 3
   },
   "file_extension": ".py",
   "mimetype": "text/x-python",
   "name": "python",
   "nbconvert_exporter": "python",
   "pygments_lexer": "ipython3",
   "version": "3.8.6"
  },
  "toc": {
   "base_numbering": "1",
   "nav_menu": {},
   "number_sections": true,
   "sideBar": true,
   "skip_h1_title": true,
   "title_cell": "Table of Contents",
   "title_sidebar": "Contents",
   "toc_cell": true,
   "toc_position": {
    "height": "236px",
    "left": "723px",
    "top": "66px",
    "width": "350px"
   },
   "toc_section_display": true,
   "toc_window_display": true
  },
  "toc-autonumbering": false,
  "toc-showcode": false,
  "toc-showmarkdowntxt": false,
  "toc-showtags": false
 },
 "nbformat": 4,
 "nbformat_minor": 4
}
