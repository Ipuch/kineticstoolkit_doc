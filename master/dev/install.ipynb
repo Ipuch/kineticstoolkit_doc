{
 "cells": [
  {
   "cell_type": "markdown",
   "metadata": {},
   "source": [
    "Installing from git-hub\n",
    "=======================\n",
    "\n",
    "To help developping Kinetics Toolkits by testing it or extending it, you can install it directly from Git-hub.\n",
    "\n",
    "This howto assumes you already have a working conda installation.\n",
    "\n",
    "1. Install the dependencies\n",
    "\n",
    "        conda install -c conda-forge python=3.8 matplotlib scipy pandas scikit-learn pyqt ezc3d limitedinteraction git pytest mypy coverage jupyterlab spyder sphinx sphinx_rtd_theme sphinx-autodoc-typehints nbsphinx twine\n",
    "    \n",
    "2. Clone the git repository\n",
    "\n",
    "        git clone https://github.com/felixchenier/kineticstoolkit.git ktk_develop\n",
    "            \n",
    "3. Add ktk_develop to your PYTHON_PATH\n",
    "\n",
    "    Add the ktk_develop folder to your PYTHON_PATH according to your favourite IDE and python installation.\n",
    "    \n",
    "4. To keep up to date\n",
    "\n",
    "        cd ktk_develop; git pull origin master"
   ]
  }
 ],
 "metadata": {
  "kernelspec": {
   "display_name": "Python 3",
   "language": "python",
   "name": "python3"
  },
  "language_info": {
   "codemirror_mode": {
    "name": "ipython",
    "version": 3
   },
   "file_extension": ".py",
   "mimetype": "text/x-python",
   "name": "python",
   "nbconvert_exporter": "python",
   "pygments_lexer": "ipython3",
   "version": "3.8.10"
  }
 },
 "nbformat": 4,
 "nbformat_minor": 4
}
