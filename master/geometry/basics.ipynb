{
 "cells": [
  {
   "cell_type": "markdown",
   "metadata": {},
   "source": [
    "Basics of rigid body geometry\n",
    "=============================\n",
    "\n",
    "This tutorial is an introduction or reminder of the basic elements of rigid body geometry. It covers the definitions of bodies, coordinate systems, coordinates (such as points, vectors and frames), and homogeneous transforms. It follows the nomenclature conventions of Craig, J., 1987. Introduction to robotics: Mechanics and control, in the context of rigid body biomechanics.\n",
    "\n",
    "While these notions largely come from the robotics field, they will be approached in the scope of rigid body biomechanics. As such, we will use the posture in Figure 1 all through the tutorial as an example for every introduced notion. To facilitate the comprehension, this is a bidimensional example; however, we will treat it as conventional 3D problem, with all z coordinates being set to zero."
   ]
  },
  {
   "cell_type": "markdown",
   "metadata": {},
   "source": [
    "----------------------\n",
    "\n",
    "![humerus_intro](../_static/geometry/humerus_intro.png){height=250px}\n",
    "\n",
    "Figure 1. The posture used as an example in this tutorial.\n",
    "\n",
    "----------------------"
   ]
  },
  {
   "cell_type": "markdown",
   "metadata": {},
   "source": [
    "Coordinates: points, vectors and frames\n",
    "---------------------------------------\n",
    "\n",
    "In this section, we will see how to express:\n",
    "\n",
    "- Points (positions);\n",
    "- Vectors such as velocities, accelerations and forces; and\n",
    "- Frames, which are the orientation and position of a coordinate system."
   ]
  },
  {
   "cell_type": "markdown",
   "metadata": {},
   "source": [
    "### Global coordinate system ###\n",
    "\n",
    "To express any coordinate, we need a coordinate system. A coordinate system is composed of an origin (the point in space everything is expressed relative to) and a set of axes. In human movement biomechanics, we usually use a cartesian system composed of three orthonormal axes (x, y and z).\n",
    "\n",
    "In newton dynamics and at the human scale, it is totally acceptable to define a global, non-moving coordinate system everything can be referenced to. In Figure 2, we define such a fixed system:\n",
    "\n",
    "- The origin is approximately at the hip level and posterior to the person;\n",
    "- The x axis points forward;\n",
    "- The y axis points upward;\n",
    "- The z axis points to the right.\n",
    "\n",
    "This coordinate system is completely arbitrary: any other origin or set of orthonormal axes would still be perfectly valid. This is the one we chose here, and the one every global coordinate will refer to."
   ]
  },
  {
   "cell_type": "markdown",
   "metadata": {},
   "source": [
    "----------------------\n",
    "\n",
    "![humerus_intro](../_static/geometry/humerus_global_coordinates.png){height=250px}\n",
    "\n",
    "Figure 2. A global coordinate system\n",
    "\n",
    "----------------------"
   ]
  },
  {
   "cell_type": "markdown",
   "metadata": {},
   "source": [
    "### Points and vectors ###\n",
    "\n",
    "Using the global coordinate system of Figure 2, we can express the position of any point in space using its three components (x, y, z). For example, the position of the shoulder in global coordinates is:\n",
    "\n",
    "\\begin{equation}\n",
    "~^\\text{global}p_\\text{shoulder} = \\begin{bmatrix}\n",
    "x_\\text{shoulder} \\\\\n",
    "y_\\text{shoulder} \\\\\n",
    "z_\\text{shoulder}\n",
    "\\end{bmatrix}\n",
    "\\end{equation}\n",
    "\n",
    "where $~^\\text{global}p_\\text{shoulder}$ is read as: Position ($p$) of the shoulder expressed in the global coordinate system.\n",
    "\n",
    "Note that while three components are sufficient to express points and vectors in three dimensions, we normally use four components instead, the fourth being 1 for points and 0 for vectors:\n",
    "\n",
    "- **Points**, such as positions, are expressed as $[x, y, z, 1]^T$.\n",
    "- **Vectors**, such as velocities, accelerations and forces, are expressed as $[x, y, z, 0]^T$.\n",
    "\n",
    "Therefore, while we express the **position** (a point) of the shoulder in global coordinates as:\n",
    "\n",
    "\\begin{equation}\n",
    "~^\\text{global}p_\\text{shoulder} = \\begin{bmatrix}\n",
    "x_\\text{shoulder} \\\\\n",
    "y_\\text{shoulder} \\\\\n",
    "z_\\text{shoulder} \\\\ 1\n",
    "\\end{bmatrix}\n",
    "\\end{equation}\n",
    "\n",
    "we would express its **velocity** (a vector) as:\n",
    "\n",
    "\\begin{equation}\n",
    "~^\\text{global}\\vec{v}_\\text{shoulder} = \\begin{bmatrix}\n",
    "v_\\text{x shoulder} \\\\\n",
    "v_\\text{y shoulder} \\\\\n",
    "v_\\text{z shoulder} \\\\ 0\n",
    "\\end{bmatrix}\n",
    "\\end{equation}\n"
   ]
  },
  {
   "cell_type": "markdown",
   "metadata": {},
   "source": [
    "### Local coordinate system ###\n",
    "\n",
    "As we just saw, points and vectors are easy to express in a coordinate system. The orientation of a segment is however more complex. In Figure 2, if we wanted to express the orientation of the humerus, we would explicitely need this information:\n",
    "\n",
    "- What is the initial, non-rotated orientation of the humerus?\n",
    "- By how many degrees is it rotated from its initial orientation?\n",
    "- Around which axes?\n",
    "\n",
    "The first step to answer these questions is to create a **local coordinate system** for the humerus. This local coordinate system will be attached to the humerus, and thus will move with it.\n",
    "\n",
    "To create such a coordinate system, we need to define where is the origin and orthonormal axes of the humerus, in respect to the humerus itself. In this example, we will use the anatomical position as a reference to define this coordinate system (Figure 3):\n",
    "\n",
    "- The humerus coordinate system's origin is located at the glenohumeral joint;\n",
    "- Its x axis points forward;\n",
    "- Its y axis is aligned with the humerus, pointing upward;\n",
    "- Its z axis points to the right."
   ]
  },
  {
   "cell_type": "markdown",
   "metadata": {},
   "source": [
    "----------------------\n",
    "\n",
    "![humerus_coordinate_system](../_static/geometry/humerus_coordinate_system.png){height=250px}\n",
    "\n",
    "Figure 3. Local coordinate system of the humerus.\n",
    "\n",
    "----------------------"
   ]
  },
  {
   "cell_type": "markdown",
   "metadata": {},
   "source": [
    "Now that we defined this local coordinate system, we can come back to the position of interest of Figure 1. Look in Figure 4 how the humerus coordinate system is attached to the humerus and thus moves with it."
   ]
  },
  {
   "cell_type": "markdown",
   "metadata": {},
   "source": [
    "----------------------\n",
    "\n",
    "![humerus_frame](../_static/geometry/humerus_frame.png){height=250px}\n",
    "\n",
    "Figure 4. Expressing the position and orientation of the humerus.\n",
    "\n",
    "----------------------"
   ]
  },
  {
   "cell_type": "markdown",
   "metadata": {},
   "source": [
    "### Frames ###\n",
    "\n",
    "We are now ready to introduce the **frame**, a 4x4 matrix that expresses both the position and the orientation of a coordinate system, in reference to another coordinate system.\n",
    "\n",
    "The fourth (easiest) column of a frame is the position of the local coordinate system's origin expressed in the reference coordinate system. In the example of Figure 4, this is:\n",
    "\n",
    "\\begin{equation}\n",
    "~^\\text{global}p_\\text{humerus} = \\begin{bmatrix}\n",
    "x_\\text{humerus} \\\\\n",
    "y_\\text{humerus} \\\\\n",
    "z_\\text{humerus} \\\\ 1\n",
    "\\end{bmatrix}\n",
    "\\end{equation}\n",
    "\n",
    "The three first columns of a frame express the frame orientation. They express, in the reference coordinate system, the coordinates of three vectors of length 1 that are respectively oriented toward the x, y and z axes of the local coordinate system. Figure 5 illustrates this concept by showing the difference of orientation between the global and the humerus coordinate systems."
   ]
  },
  {
   "cell_type": "markdown",
   "metadata": {},
   "source": [
    "![humerus_orientation](../_static/geometry/humerus_orientation.png){height=250px}\n",
    "\n",
    "Figure 5. Orientation of the humerus coordinate system."
   ]
  },
  {
   "cell_type": "markdown",
   "metadata": {},
   "source": [
    "Based on Figure 5, here is how we would express these three unit vectors (in bold) in both coordinate systems:\n",
    "\n",
    "|     |  In the humerus coordinate system  |  In the global coordinate system  |\n",
    "|-----:|:--------------------------------:|:-----------------------------------:|\n",
    "|  Humerus x axis  |    $\\begin{bmatrix} 1 \\\\ 0 \\\\ 0 \\\\ 0 \\end{bmatrix}$    |  $\\begin{bmatrix} \\cos(\\theta) \\\\ \\sin(\\theta) \\\\ 0 \\\\ 0 \\end{bmatrix}$  |\n",
    "|  Humerus y axis  |    $\\begin{bmatrix} 0 \\\\ 1 \\\\ 0 \\\\ 0 \\end{bmatrix}$    |  $\\begin{bmatrix} -\\sin(\\theta) \\\\ \\cos(\\theta) \\\\ 0 \\\\ 0 \\end{bmatrix}$  |\n",
    "|  Humerus z axis  |    $\\begin{bmatrix} 0 \\\\ 0 \\\\ 1 \\\\ 0 \\end{bmatrix}$    |  $\\begin{bmatrix} 0 \\\\ 0 \\\\ 1 \\\\ 0 \\end{bmatrix}$  |"
   ]
  },
  {
   "cell_type": "markdown",
   "metadata": {},
   "source": [
    "Combining these four vectors into a single 4x4 matrix gives the frame $~^\\text{global}_\\text{humerus}T$:\n",
    "\n",
    "\\begin{equation}\n",
    "~^\\text{global}_\\text{humerus}T = \\begin{bmatrix}\n",
    "\\cos(\\theta) & -\\sin(\\theta) & 0 & x_\\text{humerus} \\\\\n",
    "\\sin(\\theta) & \\cos(\\theta) & 0 & y_\\text{humerus} \\\\\n",
    "0 & 0 & 1 & z_\\text{humerus} \\\\\n",
    "0 & 0 & 0 & 1\n",
    "\\end{bmatrix}\n",
    "\\end{equation}\n",
    "\n",
    "where the expression $~^\\text{global}_\\text{humerus}T$ is read as: Position and orientation of the humerus coordinate system, expressed in the global coordinate system.\n",
    "\n",
    "For example, if the shoulder is located 15 cm forward and 70 cm upward to the global origin, and the humerus is inclined at 30 degrees of the vertical, then the position and orientation of the humerus coordinate system is expressed by the frame:\n",
    "\n",
    "\\begin{equation}\n",
    "~^\\text{global}_\\text{humerus}T = \\begin{bmatrix}\n",
    "\\cos(30) & -\\sin(30) & 0 & 0.15 \\\\\n",
    "\\sin(30) & \\cos(30) & 0 & 0.7 \\\\\n",
    "0 & 0 & 1 & 0 \\\\\n",
    "0 & 0 & 0 & 1\n",
    "\\end{bmatrix} \\\\=\n",
    "\\begin{bmatrix}\n",
    "0.866 & -0.5 & 0 & 0.15 \\\\\n",
    "0.5 & 0.866 & 0 & 0.7 \\\\\n",
    "0 & 0 & 1 & 0 \\\\\n",
    "0 & 0 & 0 & 1\n",
    "\\end{bmatrix}\n",
    "\\end{equation}\n",
    "\n",
    "Independently of the position and orientation of the studied body, a frame always has this form:\n",
    "\n",
    "\\begin{equation}\n",
    "\\begin{bmatrix}\n",
    "R_{11} & R_{12} & R_{13} & P_x \\\\\n",
    "R_{21} & R_{22} & R_{23} & P_y \\\\\n",
    "R_{31} & R_{32} & R_{33} & P_z \\\\\n",
    "0      & 0      & 0      & 1\n",
    "\\end{bmatrix}\n",
    "\\end{equation}\n",
    "\n",
    "where:\n",
    "\n",
    "- the $R$ sub-matrix is a function of three rotation angles and represents the orientation of the local coordinate system;\n",
    "- the $P$ vector is the position of the local coordinate system's origin.\n"
   ]
  },
  {
   "cell_type": "markdown",
   "metadata": {},
   "source": [
    "Rotations and translations: the homogeneous transform\n",
    "-----------------------------------------------------"
   ]
  },
  {
   "cell_type": "markdown",
   "metadata": {},
   "source": [
    "The 4x4 matrix that we just constructed is very important, not only to express the position and orientation of a local coordinate system, but also to express transformations such as rotations and translations. In this second case, the same 4x4 matrix is called an homogeneous transform, and:\n",
    "\n",
    "- the $R$ sub-matrix represents a rotation;\n",
    "- the $P$ vector is a translation."
   ]
  },
  {
   "cell_type": "markdown",
   "metadata": {},
   "source": [
    "### Moving coordinates ###\n",
    "\n",
    "Any coordinate (point, vector or frame) that is multiplied by the homogeneous transform will be rotated by $R$ and translated by $P$:\n",
    "\n",
    "\\begin{equation}\n",
    "p_{\\text{tranformed}} = T p_\\text{initial}\n",
    "\\end{equation}\n",
    "\n",
    "For example, if we want to rotate the point (10, 0, 0) by 30 degrees around the origin's z axis, then translate it 2 units to the right:\n",
    "\n",
    "\\begin{equation}\n",
    "p_{\\text{tranformed}} =\n",
    "\\begin{bmatrix}\n",
    "\\cos(30) & -\\sin(30) & 0 & 2 \\\\\n",
    "\\sin(30) & \\cos(30) & 0 & 0 \\\\\n",
    "0 & 0 & 1 & 0 \\\\\n",
    "0 & 0 & 0 & 1\n",
    "\\end{bmatrix}\n",
    "\\begin{bmatrix} 10 \\\\ 0 \\\\ 0 \\\\ 1 \\end{bmatrix} \\\\ =\n",
    "\\begin{bmatrix} 10\\cos(30) + 2 \\\\ 10\\sin(30) \\\\ 0 \\\\ 1 \\end{bmatrix} =\n",
    "\\begin{bmatrix} 8.66 \\\\ 5 \\\\ 0 \\\\ 1 \\end{bmatrix}\n",
    "\\end{equation}"
   ]
  },
  {
   "cell_type": "markdown",
   "metadata": {},
   "source": [
    "### Remap coordinates to other coordinate systems ###\n",
    "\n",
    "An homogenenous transform can rotate and translate any coordinate, including points, vectors and frames. Since the orientation and position of a coordinate system is itself expressed by a frame, then an homogeneous transform can also rotate and translate a coordinate system.\n",
    "\n",
    "This is a great opportunity to express coordinates from a coordinate system to another. As such, the $~^\\text{global}_\\text{humerus}T$ matrix that we formed in the last section has a first function that we already know:\n",
    "\n",
    "1. Expressing the position and orientation of the humerus coordinate system.\n",
    "\n",
    "But it also has a second function:\n",
    "\n",
    "2. Remap coordinates from the humerus local coordinate system to the global coordinate system.\n",
    "\n",
    "This is performed exactly as we did above when we rotated and translated a point. Multiplying a point expressed in a local coordinate system by its own frame of reference gives the position of the point expressed in global coordinates:\n",
    "\n",
    "\\begin{equation}\n",
    "~^\\text{global}p = ~^\\text{global}_\\text{local}T ~^\\text{local}p\n",
    "\\end{equation}"
   ]
  },
  {
   "cell_type": "markdown",
   "metadata": {},
   "source": [
    "We are due for an example. Let's say we known that the lenght of the arm is 38 cm, and we want to express the position of the elbow in the global coordinate system. We will assume the same posture as before: the shoulder is located 15 cm forward and 70 cm upward to the global origin and the humerus is inclined at 30 degrees of the vertical.\n",
    "\n",
    "The position of the elbow in the humerus coordinate system is:\n",
    "\n",
    "\\begin{equation}\n",
    "~^\\text{humerus}p_\\text{elbow} = \\begin{bmatrix}\n",
    "0 \\\\ -0.38 \\\\ 0 \\\\ 1\n",
    "\\end{bmatrix}\n",
    "\\end{equation}\n",
    "\n",
    "The humerus frame is:\n",
    "\n",
    "\\begin{equation}\n",
    "~^\\text{global}_\\text{humerus}T = \\begin{bmatrix}\n",
    "\\cos(30) & -\\sin(30) & 0 & 0.15 \\\\\n",
    "\\sin(30) & \\cos(30) & 0 & 0.7 \\\\\n",
    "0 & 0 & 1 & 0 \\\\\n",
    "0 & 0 & 0 & 1\n",
    "\\end{bmatrix} \\\\=\n",
    "\\begin{bmatrix}\n",
    "0.866 & -0.5 & 0 & 0.15 \\\\\n",
    "0.5 & 0.866 & 0 & 0.7 \\\\\n",
    "0 & 0 & 1 & 0 \\\\\n",
    "0 & 0 & 0 & 1\n",
    "\\end{bmatrix}\n",
    "\\end{equation}\n",
    "\n",
    "Therefore, the position of the elbow in the global coordinate system is:\n",
    "\n",
    "\n",
    "\\begin{equation}\n",
    "~^\\text{global}p_\\text{elbow} =\n",
    "~^\\text{global}_\\text{humerus}T ~^\\text{humerus}p_\\text{elbow} \\\\=\n",
    "\\begin{bmatrix}\n",
    "0.866 & -0.5 & 0 & 0.15 \\\\\n",
    "0.5 & 0.866 & 0 & 0.7 \\\\\n",
    "0 & 0 & 1 & 0 \\\\\n",
    "0 & 0 & 0 & 1\n",
    "\\end{bmatrix}\n",
    "\\begin{bmatrix}\n",
    "0 \\\\ -0.38 \\\\ 0 \\\\ 1\n",
    "\\end{bmatrix} \\\\=\n",
    "\\begin{bmatrix}\n",
    "0.19 + 0.15 \\\\\n",
    "-0.329 + 0.7 \\\\\n",
    "0 \\\\\n",
    "1 \\end{bmatrix} =\n",
    "\\begin{bmatrix}\n",
    "0.34 \\\\ 0.371 \\\\ 0 \\\\ 1\n",
    "\\end{bmatrix}\n",
    "\\end{equation}\n",
    "\n",
    "Its final coordinates are $(0.34, 0.371, 0)$."
   ]
  },
  {
   "cell_type": "markdown",
   "metadata": {},
   "source": [
    "Main points to remember\n",
    "-----------------------\n",
    "We will see in the next tutorial that Kinetics Toolkit's geometry module has several functions to ease the expression of coordinates from one coordinate system to another, to create frames and homogeneous transforms, etc. However, I believe it is important to remember these concepts, to understand how geometric data is represented and calculated.\n",
    "\n",
    "- A point expresses a position in a given coordinate system, and is written as the 4x1 vector:\n",
    "\n",
    "\\begin{equation}\\begin{bmatrix}\n",
    "x \\\\ y \\\\ z \\\\ 1\n",
    "\\end{bmatrix}\\end{equation}\n",
    "\n",
    "- A vector expresses a displacement, velocity, acceleration, force, etc., in a given coordinate system, and is written as the 4x1 vector:\n",
    "\n",
    "\\begin{equation}\\begin{bmatrix}\n",
    "x \\\\ y \\\\ z \\\\ 0\n",
    "\\end{bmatrix}\\end{equation}\n",
    "\n",
    "- A frame expresses the orientation $R$ and position $P$ of a local coordinate system into a reference coordinate system, and is written as the 4x4 matrix:\n",
    "\n",
    "\\begin{equation}\n",
    "\\begin{bmatrix}\n",
    "R_{11} & R_{12} & R_{13} & P_x \\\\\n",
    "R_{21} & R_{22} & R_{23} & P_y \\\\\n",
    "R_{31} & R_{32} & R_{33} & P_z \\\\\n",
    "0      & 0      & 0      & 1\n",
    "\\end{bmatrix}\n",
    "\\end{equation}\n",
    "\n",
    "- An homogeneous transform expresses a rotation $R$ and translation $P$ from a given frame to another, and is written as the same 4x4 matrix:\n",
    "\n",
    "\\begin{equation}\n",
    "\\begin{bmatrix}\n",
    "R_{11} & R_{12} & R_{13} & P_x \\\\\n",
    "R_{21} & R_{22} & R_{23} & P_y \\\\\n",
    "R_{31} & R_{32} & R_{33} & P_z \\\\\n",
    "0      & 0      & 0      & 1\n",
    "\\end{bmatrix}\n",
    "\\end{equation}\n"
   ]
  }
 ],
 "metadata": {
  "kernelspec": {
   "display_name": "Python 3",
   "language": "python",
   "name": "python3"
  },
  "language_info": {
   "codemirror_mode": {
    "name": "ipython",
    "version": 3
   },
   "file_extension": ".py",
   "mimetype": "text/x-python",
   "name": "python",
   "nbconvert_exporter": "python",
   "pygments_lexer": "ipython3",
   "version": "3.8.10"
  }
 },
 "nbformat": 4,
 "nbformat_minor": 4
}
