{
 "cells": [
  {
   "cell_type": "markdown",
   "metadata": {},
   "source": [
    "Wheelchair kinetics\n",
    "===================\n",
    "\n",
    "The [pushrimkinetics](api/kineticstoolkit.pushrimkinetics.rst) module allows processing kinetics data from instrumented wheelchair wheels such as the SmartWheel."
   ]
  },
  {
   "cell_type": "code",
   "execution_count": null,
   "metadata": {},
   "outputs": [],
   "source": [
    "import kineticstoolkit.lab as ktk\n",
    "import matplotlib.pyplot as plt\n",
    "import numpy as np\n",
    "import pandas as pd"
   ]
  },
  {
   "cell_type": "markdown",
   "metadata": {},
   "source": [
    "Read data from file\n",
    "-------------------\n",
    "The first step is to load data from a file, using the [pushrimkinetics.read_file()](api/kineticstoolkit.pushrimkinetics.read_file.rst) function."
   ]
  },
  {
   "cell_type": "code",
   "execution_count": null,
   "metadata": {},
   "outputs": [],
   "source": [
    "filename = (\n",
    "    ktk.config.root_folder +\n",
    "    '/data/pushrimkinetics/sample_swl_overground_propulsion_withrubber.csv')\n",
    "\n",
    "kinetics = ktk.pushrimkinetics.read_file(filename, file_format='smartwheel')"
   ]
  },
  {
   "cell_type": "markdown",
   "metadata": {},
   "source": [
    "Let see what we loaded:"
   ]
  },
  {
   "cell_type": "code",
   "execution_count": null,
   "metadata": {},
   "outputs": [],
   "source": [
    "kinetics"
   ]
  },
  {
   "cell_type": "code",
   "execution_count": null,
   "metadata": {},
   "outputs": [],
   "source": [
    "kinetics.data"
   ]
  },
  {
   "cell_type": "code",
   "execution_count": null,
   "metadata": {},
   "outputs": [],
   "source": [
    "plt.subplot(2, 1, 1)\n",
    "kinetics.plot('Forces')\n",
    "plt.subplot(2, 1, 2)\n",
    "kinetics.plot('Moments')\n",
    "plt.tight_layout()"
   ]
  },
  {
   "cell_type": "markdown",
   "metadata": {},
   "source": [
    "Calculate forces and moments\n",
    "----------------------------\n",
    "If the loaded data doesn't include forces and moments but only raw data (for exemple, when loading data from a SmartWheel's SD card), we must calculate the forces and moments based on a calibration matrix. The function [pushrimkinetics.calculate_forces_and_moments()](api/kineticstoolkit.pushrimkinetics.calculate_forces_and_moments.rst) performs this calculation. In this example, we use a calibration matrix that is included in `ktk.pushrimkinetics.CALIBRATION_MATRICES`, and we express the calculated forces and moments in a reference frame that is orthogonal to the ground (levelled using the wheel's angular encoder)."
   ]
  },
  {
   "cell_type": "code",
   "execution_count": null,
   "metadata": {},
   "outputs": [],
   "source": [
    "calibration_matrices = ktk.pushrimkinetics.CALIBRATION_MATRICES['SmartWheel_123']\n",
    "calibration_matrices"
   ]
  },
  {
   "cell_type": "code",
   "execution_count": null,
   "metadata": {},
   "outputs": [],
   "source": [
    "new_kinetics = ktk.pushrimkinetics.calculate_forces_and_moments(\n",
    "    kinetics,\n",
    "    gains=calibration_matrices['gains'],\n",
    "    offsets=calibration_matrices['offsets'],\n",
    "    transducer='smartwheel',\n",
    "    reference_frame='hub')\n",
    "\n",
    "plt.subplot(2, 1, 1)\n",
    "new_kinetics.plot('Forces')\n",
    "plt.subplot(2, 1, 2)\n",
    "new_kinetics.plot('Moments')\n",
    "plt.tight_layout()"
   ]
  },
  {
   "cell_type": "markdown",
   "metadata": {},
   "source": [
    "We observe some sign differences here. In fact, the SmartWheel softwares inverts some signals based on the SmartWheel's sign convention and the side of the wheel. When the forces and moments are reconstructed from raw data, these sign changes do not happen, which explains these discrepancies."
   ]
  },
  {
   "cell_type": "markdown",
   "metadata": {},
   "source": [
    "Removing dynamic offsets in forces and moments\n",
    "----------------------------------------------\n",
    "We observe in the last graphs that dynamic (sinusoidal) offsets are presents mostly in the forces but also in the moments. We can auto-remove these offsets using [pushrimkinetics.remove_offsets()](api/kineticstoolkit.pushrimkinetics.remove_offsets.rst).\n",
    "\n",
    "Let's apply this function on the data we just loaded."
   ]
  },
  {
   "cell_type": "code",
   "execution_count": null,
   "metadata": {},
   "outputs": [],
   "source": [
    "plt.subplot(2, 1, 1)\n",
    "kinetics.plot('Forces')\n",
    "plt.title('Before removing offsets')\n",
    "plt.tight_layout()"
   ]
  },
  {
   "cell_type": "code",
   "execution_count": null,
   "metadata": {},
   "outputs": [],
   "source": [
    "kinetics = ktk.pushrimkinetics.remove_offsets(kinetics)\n",
    "\n",
    "plt.subplot(2, 1, 2)\n",
    "kinetics.plot('Forces')\n",
    "plt.title('After removing offsets')\n",
    "plt.tight_layout()"
   ]
  },
  {
   "cell_type": "markdown",
   "metadata": {},
   "source": [
    "This automatic method has only be validated for straight-line, level-ground propulsion. For any other condition, a baseline trial is required. A baseline trial is a trial where an operator pushes the wheelchair but no external force appart from gravity is applied on the instrumented wheel. Please consult the [pushrimkinetics.remove_offsets()](api/kineticstoolkit.pushrimkinetics.remove_offsets.rst) function help for more information."
   ]
  },
  {
   "cell_type": "markdown",
   "metadata": {},
   "source": [
    "Calculate velocity and power\n",
    "----------------------------\n",
    "Thee wheel velocity is calculated from the wheel angle with a derivative Savitsky-Golay filter, using the [pushrimkinetics.calculate_velocity()](api/kineticstoolkit.pushrimkinetics.calculate_velocity.rst) function. Once the velocity has been calculated, the output power can also be calculated by\n",
    "multiplying the velocity by the propulsion moment, using the [pushrimkinetics.calculate_power()](api/kineticstoolkit.pushrimkinetics.calculate_power.rst) function."
   ]
  },
  {
   "cell_type": "code",
   "execution_count": null,
   "metadata": {},
   "outputs": [],
   "source": [
    "kinetics = ktk.pushrimkinetics.calculate_velocity(kinetics)\n",
    "kinetics = ktk.pushrimkinetics.calculate_power(kinetics)\n",
    "\n",
    "plt.subplot(2, 1, 1)\n",
    "kinetics.plot('Velocity')\n",
    "plt.subplot(2, 1, 2)\n",
    "kinetics.plot('Power')\n",
    "plt.tight_layout()"
   ]
  },
  {
   "cell_type": "markdown",
   "metadata": {},
   "source": [
    "Detecting the pushes\n",
    "--------------------\n",
    "\n",
    "The [cycles](cycles.rst) module provides powerful tools to detect and manage cycles. Here we use [cycles.detect_cycles()](api/kineticstoolkit.cycles.detect_cycles.rst) to detect the pushes using these specifications:\n",
    "- a push starts when the total force crosses 5 N upward;\n",
    "- a push ends when the total force crosses 2 N downward;\n",
    "- for a push to be valid, it must last at least 100 ms;\n",
    "- to be valid, the total force must reach 25 N."
   ]
  },
  {
   "cell_type": "code",
   "execution_count": null,
   "metadata": {},
   "outputs": [],
   "source": [
    "# Create the total force data\n",
    "kinetics.data['Ftot'] = np.sqrt(np.sum(kinetics.data['Forces'] ** 2, axis=1))\n",
    "\n",
    "kinetics = ktk.cycles.detect_cycles(\n",
    "    kinetics, 'Ftot',\n",
    "    event_names=['push', 'recovery'],\n",
    "    thresholds=[5.0, 2.0],\n",
    "    min_durations=[0.1, 0.1],\n",
    "    min_peak_heights=[25.0, -np.Inf]\n",
    ")\n",
    "\n",
    "kinetics.plot('Forces')\n",
    "plt.tight_layout()"
   ]
  },
  {
   "cell_type": "markdown",
   "metadata": {},
   "source": [
    "Extracting spatiotemporal and kinetic parameters\n",
    "------------------------------------------------\n",
    "\n",
    "As a conclusion to this tutorial, we will now extract some key spatiotemporal and kinetic parameters from these data, and express those parameters as a pandas DataFrame. Obviously, this is only an example and many other parameters can be calculated using a similar procedure."
   ]
  },
  {
   "cell_type": "code",
   "execution_count": null,
   "metadata": {},
   "outputs": [],
   "source": [
    "n_cycles = 15  # Number of cycles to analyze\n",
    "\n",
    "records = []  # Init a list that will contains the results of the analysis\n",
    "\n",
    "for i_cycle in range(n_cycles):\n",
    "    \n",
    "    # Get a TimeSeries that spans only the push i_push\n",
    "    ts_push = kinetics.get_ts_between_events('push', 'recovery', i_cycle, i_cycle)\n",
    "    \n",
    "    # Get a TimeSeries that spans the entire cycle i_push\n",
    "    ts_cycle = kinetics.get_ts_between_events('push', '_', i_cycle, i_cycle)\n",
    "    \n",
    "    # Get some spatiotemporal parameters\n",
    "    push_time = ts_push.time[-1] - ts_push.time[0]\n",
    "    cycle_time = ts_cycle.time[-1] - ts_cycle.time[0]\n",
    "    recovery_time = cycle_time - push_time\n",
    "\n",
    "    push_angle = ts_push.data['Angle'][-1] - ts_push.data['Angle'][0]\n",
    "    \n",
    "    # Get some kinetic parameters\n",
    "    propulsion_moment_mean = np.mean(ts_push.data['Moments'][:, 2])\n",
    "    propulsion_moment_max = np.max(ts_push.data['Moments'][:, 2])\n",
    "    \n",
    "    total_force_mean = np.mean(ts_push.data['Ftot'])\n",
    "    total_force_max = np.max(ts_push.data['Ftot'])\n",
    "    \n",
    "    # Record this information in the records list\n",
    "    records.append({\n",
    "        'Push time (s)': push_time,\n",
    "        'Recovery time (s)': recovery_time,\n",
    "        'Cycle time (s)': cycle_time,\n",
    "        'Push angle (deg)': np.rad2deg(push_angle),\n",
    "        'Mean propulsion moment (Nm)': propulsion_moment_mean,\n",
    "        'Max propulsion moment (Nm)': propulsion_moment_max,\n",
    "        'Mean total force (N)': total_force_mean,\n",
    "        'Max total force (N)': total_force_max,\n",
    "    })\n",
    "\n",
    "# Create and show a DataFrame of this information\n",
    "df = pd.DataFrame.from_dict(records)\n",
    "\n",
    "# Copy the dataframe to the clipboard for pasting into Excel (facultative)\n",
    "df.to_clipboard()\n",
    "\n",
    "# Print the dataframe here\n",
    "df"
   ]
  },
  {
   "cell_type": "markdown",
   "metadata": {},
   "source": [
    "For more information, please check the [API Reference for the pushrimkinetics module](api/kineticstoolkit.pushrimkinetics.rst)."
   ]
  }
 ],
 "metadata": {
  "kernelspec": {
   "display_name": "Python 3 (ipykernel)",
   "language": "python",
   "name": "python3"
  },
  "language_info": {
   "codemirror_mode": {
    "name": "ipython",
    "version": 3
   },
   "file_extension": ".py",
   "mimetype": "text/x-python",
   "name": "python",
   "nbconvert_exporter": "python",
   "pygments_lexer": "ipython3",
   "version": "3.8.10"
  }
 },
 "nbformat": 4,
 "nbformat_minor": 4
}
