{
 "cells": [
  {
   "cell_type": "markdown",
   "metadata": {},
   "source": [
    "Dimension conventions and first example\n",
    "=======================================\n",
    "\n",
    "In the [geometry](../api/kineticstoolkit.geometry.rst) module and in most of Kinetics Toolkit's module:\n",
    "\n",
    "- Every point, vector or matrix, and in many case even scalar, is considered as a **series**.\n",
    "- The first dimension of any series corresponds to **time**.\n",
    "\n",
    "To understand better how to express scalars, coordinates (points, vectors, frames) and homogeneous transforms as series, please refer to the following pictures:\n",
    "\n",
    "Series of scalars\n",
    "-----------------\n",
    "\n",
    "![Series of m scalars](../_static/geometry/series_of_m_scalars.png){ width=330px }\n",
    "\n",
    "Series of points, series of vectors\n",
    "-----------------------------------\n",
    "\n",
    "![Series of m points](../_static/geometry/series_of_m_points.png){ width=330px } ![Series of m vectors](../_static/geometry/series_of_m_vectors.png){ width=330px }\n",
    "\n",
    "Series of groups of points, series of groups of vectors\n",
    "-------------------------------------------------------\n",
    "\n",
    "![Series of m groups of n points](../_static/geometry/series_of_m_groups_of_n_points.png){ width=330px } ![Series of m groups of n vectors](../_static/geometry/series_of_m_groups_of_n_vectors.png){ width=330px }\n",
    "\n",
    "Series of frames/homogeneous transforms\n",
    "---------------------------------------\n",
    "\n",
    "![Series of m transformation matrices](../_static/geometry/series_of_m_transformation_matrices.png){ width=350px }\n",
    "\n",
    "Working with constants\n",
    "----------------------\n",
    "\n",
    "Since most signals in Kinetics Toolkit as considered as a series, always ensure that the first dimension of any array is reserved to time. For example, the vector (x = 1, y = 2, z = 3) must be expressed as `np.array([[1.0, 2.0, 3.0, 0.0]])` (note the double brackets). A common error would be to express it as `np.array([1.0, 2.0, 3.0, 0.0])` (single brackets), which would mean a series of 4 floats instead of one constant vector.\n",
    "\n",
    "A quick way to convert a constant array to a series is to use numpy's `newaxis`:"
   ]
  },
  {
   "cell_type": "code",
   "execution_count": null,
   "metadata": {},
   "outputs": [],
   "source": [
    "import numpy as np\n",
    "\n",
    "one_matrix = np.eye(4)\n",
    "one_matrix"
   ]
  },
  {
   "cell_type": "code",
   "execution_count": null,
   "metadata": {},
   "outputs": [],
   "source": [
    "series_of_one_matrix = one_matrix[np.newaxis]\n",
    "series_of_one_matrix"
   ]
  },
  {
   "cell_type": "markdown",
   "metadata": {},
   "source": [
    "First example with the geometry module\n",
    "--------------------------------------\n",
    "\n",
    "Now that we presented the conventions for expressing coordinates and transforms as series, we are ready to redo the last example from the last section, this time using Kinetics Toolkit."
   ]
  },
  {
   "cell_type": "markdown",
   "metadata": {},
   "source": [
    "----------------------\n",
    "\n",
    "![humerus_frame](../_static/geometry/humerus_frame.png){height=250px}\n",
    "\n",
    "Figure 1. Position and orientation of the humerus.\n",
    "\n",
    "----------------------"
   ]
  },
  {
   "cell_type": "markdown",
   "metadata": {},
   "source": [
    "We know the lenght of the arm is 38 cm, and we want to express the position of the elbow in the global coordinate system. The shoulder is located 15 cm forward and 70 cm upward to the global origin and the humerus is inclined at 30 degrees of the vertical.\n",
    "\n",
    "First, let's express the elbow position in the humerus coordinate system."
   ]
  },
  {
   "cell_type": "code",
   "execution_count": null,
   "metadata": {},
   "outputs": [],
   "source": [
    "import kineticstoolkit.lab as ktk\n",
    "\n",
    "local_elbow_position = np.array([[0, -0.38, 0, 1]])\n",
    "\n",
    "local_elbow_position"
   ]
  },
  {
   "cell_type": "markdown",
   "metadata": {},
   "source": [
    "Now, we create the frame representing the position and orientation of the humerus coordinate system. Since we know these position and orientation, then we will create this frame as an homogeneous transform from the global to the humerus coordinate system, using the [geometry.create_transforms()](../api/kineticstoolkit.geometry.create_transforms.rst) function:"
   ]
  },
  {
   "cell_type": "code",
   "execution_count": null,
   "metadata": {},
   "outputs": [],
   "source": [
    "humerus_frame = ktk.geometry.create_transforms(\n",
    "    seq = 'z',\n",
    "    angles = [np.deg2rad(30)],\n",
    "    translations = [[0.15, 0.70, 0]])\n",
    "\n",
    "humerus_frame"
   ]
  },
  {
   "cell_type": "markdown",
   "metadata": {},
   "source": [
    "Now we can express the local elbow position in the global coordinate system:"
   ]
  },
  {
   "cell_type": "code",
   "execution_count": null,
   "metadata": {},
   "outputs": [],
   "source": [
    "ktk.geometry.get_global_coordinates(local_elbow_position, humerus_frame)"
   ]
  }
 ],
 "metadata": {
  "kernelspec": {
   "display_name": "Python 3",
   "language": "python",
   "name": "python3"
  },
  "language_info": {
   "codemirror_mode": {
    "name": "ipython",
    "version": 3
   },
   "file_extension": ".py",
   "mimetype": "text/x-python",
   "name": "python",
   "nbconvert_exporter": "python",
   "pygments_lexer": "ipython3",
   "version": "3.8.10"
  }
 },
 "nbformat": 4,
 "nbformat_minor": 4
}
