{
 "cells": [
  {
   "cell_type": "markdown",
   "metadata": {},
   "source": [
    "TimeSeries\n",
    "=========="
   ]
  },
  {
   "cell_type": "markdown",
   "metadata": {},
   "source": [
    "The [TimeSeries](api/kineticstoolkit.TimeSeries.rst) class is the basis of most Kinetic Toolkit's modules and is the only class that users have to learn after python standard types and numpy arrays.\n",
    "\n",
    "------------------------\n",
    "\n",
    "***The three roles of the TimeSeries class are to:***\n",
    "\n",
    "1. *organize multidimensional data in time;*\n",
    "2. *deal with events;*\n",
    "3. *associate metadata to data.*\n",
    "\n",
    "------------------------\n",
    "\n",
    "TimeSeries are largely inspired by Matlab's `timeseries` and `tscollection`.\n",
    "\n",
    "\n",
    "TimeSeries basics\n",
    "-----------------\n",
    "\n",
    "Every TimeSeries contains the following attributes:\n",
    "\n",
    "- `time`: A numpy array that contains the time vector.\n",
    "- `data`: A dict where each entry is a numpy array, with the first dimension corresponding to time.\n",
    "- `events`: An optional list of events.\n",
    "- `time_info`: Metadata corresponding to time, that contains at least the time unit.\n",
    "- `data_info`: Optional metadata.\n",
    "\n",
    "A TimeSeries in its simplest form contains a time vector and at least one data series. For example:"
   ]
  },
  {
   "cell_type": "code",
   "execution_count": null,
   "metadata": {},
   "outputs": [],
   "source": [
    "import kineticstoolkit.lab as ktk\n",
    "import numpy as np\n",
    "\n",
    "ts = ktk.TimeSeries()\n",
    "ts.time = np.arange(0, 10, 0.1)  # 10 seconds at 10 Hz\n",
    "ts.data['Sinus'] = np.sin(ts.time)\n",
    "\n",
    "ts"
   ]
  },
  {
   "cell_type": "code",
   "execution_count": null,
   "metadata": {},
   "outputs": [],
   "source": [
    "ts.data"
   ]
  },
  {
   "cell_type": "markdown",
   "metadata": {},
   "source": [
    "TimeSeries can be [plotted](api/kineticstoolkit.TimeSeries.plot.rst) directly using Matplotlib:"
   ]
  },
  {
   "cell_type": "code",
   "execution_count": null,
   "metadata": {},
   "outputs": [],
   "source": [
    "ts.plot()"
   ]
  },
  {
   "cell_type": "markdown",
   "metadata": {},
   "source": [
    "A TimeSeries can contain many independent data that share a same time vector:"
   ]
  },
  {
   "cell_type": "code",
   "execution_count": null,
   "metadata": {},
   "outputs": [],
   "source": [
    "ts.data['Cosinus'] = np.cos(ts.time)\n",
    "\n",
    "ts"
   ]
  },
  {
   "cell_type": "code",
   "execution_count": null,
   "metadata": {},
   "outputs": [],
   "source": [
    "ts.data"
   ]
  },
  {
   "cell_type": "code",
   "execution_count": null,
   "metadata": {},
   "outputs": [],
   "source": [
    "ts.plot()"
   ]
  },
  {
   "cell_type": "markdown",
   "metadata": {},
   "source": [
    "A TimeSeries can also contain multidimensional data, as long as the first dimension corresponds to time. Here, we simulate a moving kinematics marker."
   ]
  },
  {
   "cell_type": "code",
   "execution_count": null,
   "metadata": {},
   "outputs": [],
   "source": [
    "# Initialize the numpy array to 100 samples of a (x, y, z, 1) position vector.\n",
    "ts.data['Marker1'] = np.empty((100, 4))\n",
    "\n",
    "# Simulate a randomly moving marker\n",
    "np.random.seed(0)\n",
    "ts.data['Marker1'][:, 0] = np.cumsum(np.cumsum(0.01 * (np.random.rand(100) - 0.5)))  # x\n",
    "ts.data['Marker1'][:, 1] = np.cumsum(np.cumsum(0.01 * (np.random.rand(100) - 0.5)))  # y\n",
    "ts.data['Marker1'][:, 2] = np.cumsum(np.cumsum(0.01 * (np.random.rand(100) - 0.5)))  # z\n",
    "ts.data['Marker1'][:, 3] = 1                                                         # 1\n",
    "\n",
    "ts.data"
   ]
  },
  {
   "cell_type": "code",
   "execution_count": null,
   "metadata": {},
   "outputs": [],
   "source": [
    "ts.plot()"
   ]
  },
  {
   "cell_type": "markdown",
   "metadata": {},
   "source": [
    "Exporting and importing pandas DataFrames\n",
    "-----------------------------------------\n",
    "\n",
    "TimeSeries integrate well with pandas DataFrames and therefore with a plethora or data analysis softwares, using the [TimeSeries.to_dataframe()](api/kineticstoolkit.TimeSeries.to_dataframe.rst) and [TimeSeries.from_dataframe()](api/kineticstoolkit.TimeSeries.from_dataframe.rst) methods. For example, exporting the previous TimeSeries to a DataFrame gives:"
   ]
  },
  {
   "cell_type": "code",
   "execution_count": null,
   "metadata": {},
   "outputs": [],
   "source": [
    "df = ts.to_dataframe()\n",
    "\n",
    "df"
   ]
  },
  {
   "cell_type": "markdown",
   "metadata": {},
   "source": [
    "Note the brackets in the Marker1 headers that indicate multidimensional data. For higher dimensions, these brackets would multiple indexes: for example, a series of rigid 4x4 transformation matrices would require 16 columns and the indexes would go from [0,0] to [3,3].\n",
    "\n",
    "Now, importing from a DataFrame:"
   ]
  },
  {
   "cell_type": "code",
   "execution_count": null,
   "metadata": {},
   "outputs": [],
   "source": [
    "ts2 = ktk.TimeSeries.from_dataframe(df)\n",
    "\n",
    "ts2.plot()"
   ]
  },
  {
   "cell_type": "markdown",
   "metadata": {},
   "source": [
    "For the rest of this tutorial, we will work with wheelchair propulsion kinetic data from a CSV file."
   ]
  },
  {
   "cell_type": "code",
   "execution_count": null,
   "metadata": {},
   "outputs": [],
   "source": [
    "import pandas as pd\n",
    "\n",
    "# Read some columns\n",
    "df = pd.read_csv(ktk.config.root_folder + '/data/timeseries/smartwheel.csv',\n",
    "                 usecols=[18, 19, 20, 21, 22, 23],\n",
    "                 names=['Forces[0]', 'Forces[1]', 'Forces[2]',\n",
    "                        'Moments[0]', 'Moments[1]', 'Moments[2]'],\n",
    "                 nrows=5000)\n",
    "\n",
    "# Assign time to the DataFrame's index, where the sampling rate is 240 Hz.\n",
    "df.index = np.arange(df.shape[0]) / 240\n",
    "df"
   ]
  },
  {
   "cell_type": "markdown",
   "metadata": {},
   "source": [
    "Now, we convert this DataFrame to a TimeSeries:"
   ]
  },
  {
   "cell_type": "code",
   "execution_count": null,
   "metadata": {},
   "outputs": [],
   "source": [
    "ts = ktk.TimeSeries.from_dataframe(df)\n",
    "\n",
    "ts"
   ]
  },
  {
   "cell_type": "code",
   "execution_count": null,
   "metadata": {},
   "outputs": [],
   "source": [
    "ts.data"
   ]
  },
  {
   "cell_type": "code",
   "execution_count": null,
   "metadata": {},
   "outputs": [],
   "source": [
    "ts.plot()"
   ]
  },
  {
   "cell_type": "markdown",
   "metadata": {},
   "source": [
    "Metadata\n",
    "--------\n",
    "\n",
    "The `time_info` property associates metadata to the time vector. It is a dictionary where each key is the name of one metadata. By default, `time_info` includes the `Unit` metadata, which corresponds to `s`. Any other metadata can be added by adding new keys in `time_info`."
   ]
  },
  {
   "cell_type": "code",
   "execution_count": null,
   "metadata": {},
   "outputs": [],
   "source": [
    "ts.time_info"
   ]
  },
  {
   "cell_type": "markdown",
   "metadata": {},
   "source": [
    "Similarly, the `data_info` property associates metadata to data. This property is a dictionary of dictionaries, where the outer key corresponds to the data key, and the inner key is the metadata. The [TimeSeries.add_data_info()](api/kineticstoolkit.TimeSeries.add_data_info.rst) method eases the management of `data_info`."
   ]
  },
  {
   "cell_type": "code",
   "execution_count": null,
   "metadata": {},
   "outputs": [],
   "source": [
    "ts = ts.add_data_info('Forces', 'Unit', 'N')\n",
    "ts = ts.add_data_info('Moments', 'Unit', 'Nm')"
   ]
  },
  {
   "cell_type": "markdown",
   "metadata": {},
   "source": [
    "Unless explicitly mentioned, metadata is not used for calculation and is optional. It is simply a way to clarify the data by adding information to it. Some functions however read metadata: for example, the [TimeSeries.plot()](api/kineticstoolkit.TimeSeries.plot.rst) method looks for possible `Unit` metadata and prints it on the y axis."
   ]
  },
  {
   "cell_type": "code",
   "execution_count": null,
   "metadata": {},
   "outputs": [],
   "source": [
    "ts.plot()"
   ]
  },
  {
   "cell_type": "markdown",
   "metadata": {},
   "source": [
    "Events\n",
    "------\n",
    "\n",
    "In the figure above, we see that the TimeSeries contains cyclic data that could be characterized by events. A first spike was generated at about 4 seconds: this event corresponds to a synchronization signal that we generated by gently impacting the instrumented pushrim. Thereafter, we see a series of pushes and recoveries. We will add these events to the TimeSeries.\n",
    "\n",
    "There are several ways to edit the events of a TimeSeries:\n",
    "- Editing events manually, using the [TimeSeries.add_event()](api/kineticstoolkit.TimeSeries.add_event.rst) and [TimeSeries.remove_event()](api/kineticstoolkit.TimeSeries.remove_event.rst) methods;\n",
    "- Editing events interactively, using the [TimeSeries.ui_edit_events()](api/kineticstoolkit.TimeSeries.ui_edit_events.rst) method;\n",
    "- Adding events automatically, for example using the [cycles](cycles.rst) module that can detect cycles automatically.\n",
    "\n",
    "In this tutorial, we will add the events manually."
   ]
  },
  {
   "cell_type": "code",
   "execution_count": null,
   "metadata": {},
   "outputs": [],
   "source": [
    "ts = ts.add_event(4.35, 'sync')\n",
    "ts = ts.add_event(8.56, 'push')\n",
    "ts = ts.add_event(9.93, 'recovery')\n",
    "ts = ts.add_event(10.50, 'push')\n",
    "ts = ts.add_event(11.12, 'recovery')\n",
    "ts = ts.add_event(11.78, 'push')\n",
    "ts = ts.add_event(12.33, 'recovery')\n",
    "ts = ts.add_event(13.39, 'push')\n",
    "ts = ts.add_event(13.88, 'recovery')\n",
    "ts = ts.add_event(14.86, 'push')\n",
    "ts = ts.add_event(15.30, 'recovery')"
   ]
  },
  {
   "cell_type": "markdown",
   "metadata": {},
   "source": [
    "These events are now added to the TimeSeries' list of events:"
   ]
  },
  {
   "cell_type": "code",
   "execution_count": null,
   "metadata": {},
   "outputs": [],
   "source": [
    "ts"
   ]
  },
  {
   "cell_type": "code",
   "execution_count": null,
   "metadata": {},
   "outputs": [],
   "source": [
    "ts.events"
   ]
  },
  {
   "cell_type": "markdown",
   "metadata": {},
   "source": [
    "If we plot again the TimeSeries, we can see the added events."
   ]
  },
  {
   "cell_type": "code",
   "execution_count": null,
   "metadata": {},
   "outputs": [],
   "source": [
    "ts.plot()"
   ]
  },
  {
   "cell_type": "markdown",
   "metadata": {},
   "source": [
    "### Using events to synchronize TimeSeries ###\n",
    "\n",
    "Let's see how we can make use of these events. First, the `sync` event can be used to set the zero-time. This would be useful to sync this TimeSeries with data from another wheel, or with any another instrument that also has such synchronization event. The [TimeSeries.sync_event()](api/kineticstoolkit.TimeSeries.sync_event.rst) shifts the TimeSeries' time and every event's time so that the sync event becomes the new \"zero-time\"."
   ]
  },
  {
   "cell_type": "code",
   "execution_count": null,
   "metadata": {},
   "outputs": [],
   "source": [
    "ts = ts.sync_event('sync')\n",
    "ts.plot()"
   ]
  },
  {
   "cell_type": "markdown",
   "metadata": {},
   "source": [
    "### Using events to extract shorter TimeSeries ###\n",
    "\n",
    "The `TimeSeries` class comes with a myriad of methods such as [TimeSeries.get_ts_after_event()](api/kineticstoolkit.TimeSeries.get_ts_after_event.rst), [TimeSeries.get_ts_between_events()](api/kineticstoolkit.TimeSeries.get_ts_between_events.rst), etc. For example, if we want to analyze data of the four first pushes and get rid of any other data, we could extract a new TimeSeries that contains only these data:"
   ]
  },
  {
   "cell_type": "code",
   "execution_count": null,
   "metadata": {},
   "outputs": [],
   "source": [
    "# Extract data push event 0 up to push event 4.\n",
    "ts2 = ts.get_ts_between_events('push', 'push', 0, 4, inclusive=True)\n",
    "\n",
    "# Remove the events that are not contained into the new time range.\n",
    "ts2 = ts2.trim_events()\n",
    "\n",
    "ts2.plot()"
   ]
  },
  {
   "cell_type": "markdown",
   "metadata": {},
   "source": [
    "Subsetting and merging timeseries\n",
    "---------------------------------\n",
    "\n",
    "We can use the [TimeSeries.get_subset()](api/kineticstoolkit.TimeSeries.get_subset.rst) method to extract some signals from a TimeSeries. For example, if we only want to keep force information and get rid of the moments:"
   ]
  },
  {
   "cell_type": "code",
   "execution_count": null,
   "metadata": {},
   "outputs": [],
   "source": [
    "ts3 = ts2.get_subset(['Forces'])\n",
    "\n",
    "ts3.data"
   ]
  },
  {
   "cell_type": "code",
   "execution_count": null,
   "metadata": {},
   "outputs": [],
   "source": [
    "ts3.plot()"
   ]
  },
  {
   "cell_type": "markdown",
   "metadata": {},
   "source": [
    "For more information, please refer to the [API reference for the TimeSeries class](api/kineticstoolkit.TimeSeries.rst)."
   ]
  }
 ],
 "metadata": {
  "kernelspec": {
   "display_name": "Python 3 (ipykernel)",
   "language": "python",
   "name": "python3"
  },
  "language_info": {
   "codemirror_mode": {
    "name": "ipython",
    "version": 3
   },
   "file_extension": ".py",
   "mimetype": "text/x-python",
   "name": "python",
   "nbconvert_exporter": "python",
   "pygments_lexer": "ipython3",
   "version": "3.8.10"
  },
  "toc": {
   "base_numbering": "1",
   "nav_menu": {},
   "number_sections": true,
   "sideBar": true,
   "skip_h1_title": true,
   "title_cell": "Table of Contents",
   "title_sidebar": "Contents",
   "toc_cell": true,
   "toc_position": {
    "height": "236px",
    "left": "723px",
    "top": "66px",
    "width": "350px"
   },
   "toc_section_display": true,
   "toc_window_display": true
  },
  "toc-autonumbering": false,
  "toc-showcode": false,
  "toc-showmarkdowntxt": false,
  "toc-showtags": false
 },
 "nbformat": 4,
 "nbformat_minor": 4
}
