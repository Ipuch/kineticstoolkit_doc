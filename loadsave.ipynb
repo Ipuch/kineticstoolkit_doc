{
 "cells": [
  {
   "cell_type": "markdown",
   "metadata": {},
   "source": [
    "Saving and loading\n",
    "==================\n",
    "\n",
    "Contrarily to Matlab with its `.mat` file, python does not come with a single standard way to save data. To ease saving and sharing data, Kinetics Toolkit provides two functions that load and save its own `.ktk.zip` format:\n",
    "\n",
    "- [save()](api/kineticstoolkit.save.rst)\n",
    "- [load()](api/kineticstoolkit.load.rst)\n",
    "\n",
    "These functions are straightforward to use:"
   ]
  },
  {
   "cell_type": "code",
   "execution_count": null,
   "metadata": {},
   "outputs": [],
   "source": [
    "import kineticstoolkit.lab as ktk\n",
    "import numpy as np\n",
    "\n",
    "variable = {\n",
    "    'some_array': np.arange(0, 5, 0.5),\n",
    "    'some_text': 'hello',\n",
    "}"
   ]
  },
  {
   "cell_type": "markdown",
   "metadata": {},
   "source": [
    "Saving the variable:"
   ]
  },
  {
   "cell_type": "code",
   "execution_count": null,
   "metadata": {},
   "outputs": [],
   "source": [
    "ktk.save('filename.ktk.zip', variable)"
   ]
  },
  {
   "cell_type": "markdown",
   "metadata": {},
   "source": [
    "Loading back the variable:"
   ]
  },
  {
   "cell_type": "code",
   "execution_count": null,
   "metadata": {},
   "outputs": [],
   "source": [
    "loaded_variable = ktk.load('filename.ktk.zip')\n",
    "\n",
    "loaded_variable"
   ]
  },
  {
   "cell_type": "markdown",
   "metadata": {},
   "source": [
    "File format and supported types\n",
    "-------------------------------\n",
    "\n",
    "The `ktk.zip` file format is built to be as portable and simple as possible. It is a standard zip file that contains two JSON files:\n",
    "\n",
    "- `metadata.json`: The file metadata such as the save date, the computer's operating system, etc.\n",
    "- `data.json`: The data. The data types that are not supported natively by the JSON file format (e.g., numpy, pandas and ktk objects) are converted to supported objects so that they are fully readable in other environments such as Matlab.\n",
    "\n",
    "The `ktk.zip` file format supports any combination of the following types:\n",
    "\n",
    "| Already supported by JSON           | Extended for Kinetics Toolkit  |\n",
    "|-------------------------------------|--------------------------------|\n",
    "| dict containing any supported type  | numpy.array                    |\n",
    "| list containing any supported type  | pandas.DataFrame               |\n",
    "| str                                 | pandas.Series                  |\n",
    "| int                                 | kineticstoolkit.TimeSeries     |\n",
    "| float                               |                                |\n",
    "| True, False, None                   |                                |\n",
    "\n",
    "Tuples can also be saved but will be loaded back as lists."
   ]
  },
  {
   "cell_type": "markdown",
   "metadata": {},
   "source": [
    "Loading a ktk.zip file in Matlab\n",
    "--------------------------------\n",
    "\n",
    "    % Create a temporary folder to unzip to\n",
    "    mkdir('temp');\n",
    "    unzip(filename, 'temp');\n",
    "\n",
    "    % Load the file contents\n",
    "    data = jsondecode(fileread('temp/data.json'));\n",
    "    metadata = jsondecode(fileread('temp/metadata.json'));\n",
    "\n",
    "Since the types are not the same between python, JSON and Matlab, here is how Matlab will reconstruct the following python types:\n",
    "\n",
    "| Python                           | Matlab                       |\n",
    "|----------------------------------|------------------------------|\n",
    "| None                             | NaN                          |\n",
    "| True, False                      | true, false                  |\n",
    "| int, float                       | double                       |\n",
    "| str                              | char                         |\n",
    "| dict                             | struct                       |\n",
    "| list of different data types     | cell array                   |\n",
    "| list of boolean                  | array of logical             |\n",
    "| list of int or float             | array of double              |\n",
    "| list of str                      | cell array of char           |\n",
    "| list of dict, same field names   | structure array              |\n",
    "| list of dict, diff field names   | cell array of struct         |\n",
    "| numpy.array                      | array of double              |\n",
    "| kineticstoolkit.TimeSeries       | struct                       |\n",
    "| complex                          | struct with real and imag    |\n",
    "\n",
    "\n",
    "    \n",
    "*tuples are saved as lists in JSON."
   ]
  }
 ],
 "metadata": {
  "kernelspec": {
   "display_name": "Python 3",
   "language": "python",
   "name": "python3"
  },
  "language_info": {
   "codemirror_mode": {
    "name": "ipython",
    "version": 3
   },
   "file_extension": ".py",
   "mimetype": "text/x-python",
   "name": "python",
   "nbconvert_exporter": "python",
   "pygments_lexer": "ipython3",
   "version": "3.8.10"
  }
 },
 "nbformat": 4,
 "nbformat_minor": 4
}
