{
 "cells": [
  {
   "cell_type": "markdown",
   "id": "7cd62132-77d4-49f9-9def-7be7870a896a",
   "metadata": {},
   "source": [
    "Anthropometrics\n",
    "===============\n",
    "\n",
    "The `anthropometrics` module aims to assist the reconstruction of human-specific points of anatomy, to establish trajectories of segment orientations via standardised local coordinate systems, and to estimate the segment's centers of mass and inertial properties.\n",
    "\n",
    ".. warning:: This is an experimental module, its API and behaviour may change in the future.\n",
    "\n",
    "In this tutorial, we will work on a static acquisition where we probed and followed a set of bony landmarks. We will infer joint centers based on these landmarks, then we will estimate the segments' centers of mass, and finally we will track local coordinate systems for every segment."
   ]
  },
  {
   "cell_type": "code",
   "execution_count": null,
   "id": "08438b23-43fb-4fd2-ae57-712cde74a5b9",
   "metadata": {},
   "outputs": [],
   "source": [
    "import kineticstoolkit.lab as ktk\n",
    "import numpy as np"
   ]
  },
  {
   "cell_type": "markdown",
   "id": "fc6ac6e1-8e88-4cae-b6f5-35a4c39df6c4",
   "metadata": {},
   "source": [
    "We will start by loading a sample dataset, inspect its contents and show it in a player."
   ]
  },
  {
   "cell_type": "code",
   "execution_count": null,
   "id": "a2f7f7b7-5056-43fd-9b8c-3261cd9d7448",
   "metadata": {},
   "outputs": [],
   "source": [
    "markers = ktk.load(\n",
    "    ktk.config.root_folder\n",
    "    + '/data/anthropometrics/static.ktk.zip'\n",
    ")\n",
    "\n",
    "# Print the available markers\n",
    "markers.data"
   ]
  },
  {
   "cell_type": "code",
   "execution_count": null,
   "id": "92134a2c-0cc1-42b9-a432-ca6aea763d53",
   "metadata": {},
   "outputs": [],
   "source": [
    "# Show in a Player\n",
    "viewpoint = {\n",
    "    'zoom': 3.5,\n",
    "    'azimuth': -2.356,\n",
    "    'elevation': 0.384,\n",
    "    'translation': (0.083, 0.184),\n",
    "    'target': (-4.435, 0.726, 0.540,  1.),\n",
    "}\n",
    "\n",
    "player = ktk.Player(\n",
    "    markers,\n",
    "    segments=ktk.anthropometrics.LINKS,  # Lines to better see the human shape\n",
    "    **viewpoint\n",
    ")"
   ]
  },
  {
   "cell_type": "markdown",
   "id": "233ae998-e62e-4163-b8fe-df2bdcfd09dd",
   "metadata": {},
   "source": [
    "### Infer joint centers\n",
    "\n",
    "Although a lot of markers are already available in this acquisition, the joint centers are undefined. We will first add the hips and L5S1, which are defined by the pelvis segment."
   ]
  },
  {
   "cell_type": "code",
   "execution_count": null,
   "id": "1e685ace-fc16-4d27-8d7d-6a9a17cd2d90",
   "metadata": {},
   "outputs": [],
   "source": [
    "markers = markers.merge(\n",
    "    ktk.anthropometrics.infer_joint_centers(\n",
    "        markers, segment='Pelvis', sex='M'\n",
    "    )\n",
    ")\n",
    "\n",
    "player = ktk.Player(\n",
    "    markers,\n",
    "    segments=ktk.anthropometrics.LINKS,  # Lines to better see the human shape\n",
    "    **viewpoint\n",
    ")"
   ]
  },
  {
   "cell_type": "markdown",
   "id": "2f4015b8-e33e-439f-afcc-136a03d8a4a3",
   "metadata": {},
   "source": [
    "Then, we can add the glenohumeral joints and C7T1, which are defined by the thorax segment."
   ]
  },
  {
   "cell_type": "code",
   "execution_count": null,
   "id": "dbda4d05-d6ec-41af-9790-75a8bff8ba06",
   "metadata": {},
   "outputs": [],
   "source": [
    "markers = markers.merge(\n",
    "    ktk.anthropometrics.infer_joint_centers(\n",
    "        markers, segment='Thorax', sex='M'\n",
    "    )\n",
    ")\n",
    "\n",
    "player = ktk.Player(\n",
    "    markers,\n",
    "    segments=ktk.anthropometrics.LINKS,  # Lines to better see the human shape\n",
    "    **viewpoint\n",
    ")"
   ]
  },
  {
   "cell_type": "markdown",
   "id": "0fee5607-547b-4439-b4e8-473556c09027",
   "metadata": {},
   "source": [
    "Finally, we add the joint centers for the extremities, which are calculated as the midpoint between their respective lateral and medial bony landmarks."
   ]
  },
  {
   "cell_type": "code",
   "execution_count": null,
   "id": "c570c1dc-3c14-4b26-ae34-11c13dca5f3b",
   "metadata": {},
   "outputs": [],
   "source": [
    "markers = markers.merge(\n",
    "    ktk.anthropometrics.infer_joint_centers(\n",
    "        markers, segment='Extremities'\n",
    "    )\n",
    ")\n",
    "\n",
    "player = ktk.Player(\n",
    "    markers,\n",
    "    segments=ktk.anthropometrics.LINKS,  # Lines to better see the human shape\n",
    "    **viewpoint\n",
    ")"
   ]
  },
  {
   "cell_type": "markdown",
   "id": "53b3f53b-5e13-477a-acb9-ef78303b3034",
   "metadata": {},
   "source": [
    "Now that every joint center is reconstructed based on this static acquisition, we may to include these joint centers into marker clusters so that they can be reconstructed later in an analyzed action."
   ]
  },
  {
   "cell_type": "code",
   "execution_count": null,
   "id": "7f8a1227-345c-4abf-9e68-74cc6875dedf",
   "metadata": {},
   "outputs": [],
   "source": [
    "clusters = {}\n",
    "clusters['Pelvis'] = ktk.kinematics.create_cluster(\n",
    "    markers, [\n",
    "        'AnteriorSuperiorIliacSpineR',\n",
    "        'AnteriorSuperiorIliacSpineL',\n",
    "        'PosteriorSuperiorIliacSpineR',\n",
    "        'PosteriorSuperiorIliacSpineL',\n",
    "        'PubicSymphysis',\n",
    "        'L5S1JointCenter',\n",
    "        'HipJointCenterR',\n",
    "        'HipJointCenterL',\n",
    "    ]\n",
    ")\n",
    "\n",
    "clusters['Thorax'] = ktk.kinematics.create_cluster(\n",
    "    markers, [\n",
    "        'C7',\n",
    "        'Xiphoid',\n",
    "        'Suprasternale',\n",
    "        'C7T1JointCenter',\n",
    "    ]\n",
    ")\n",
    "\n",
    "clusters['HeadNeck'] = ktk.kinematics.create_cluster(\n",
    "    markers, [\n",
    "        'Sellion',\n",
    "        'HeadVertex',\n",
    "        'Chin',\n",
    "    ]\n",
    ")\n",
    "\n",
    "for side in ['R', 'L']:\n",
    "\n",
    "    clusters[f'Arm{side}'] = ktk.kinematics.create_cluster(\n",
    "        markers, [\n",
    "            f'Arm{side}_Marker1',\n",
    "            f'Arm{side}_Marker2',\n",
    "            f'Arm{side}_Marker3',\n",
    "            f'Arm{side}_Marker4',\n",
    "            f'GlenohumeralJointCenter{side}',\n",
    "            f'LateralHumeralEpicondyle{side}',\n",
    "            f'MedialHumeralEpicondyle{side}',\n",
    "            f'ElbowJointCenter{side}',\n",
    "        ]\n",
    "    )\n",
    "\n",
    "    clusters[f'Forearm{side}'] = ktk.kinematics.create_cluster(\n",
    "        markers, [\n",
    "            f'ElbowJointCenter{side}',\n",
    "            f'UlnarStyloid{side}',\n",
    "            f'RadialStyloid{side}',\n",
    "            f'WristJointCenter{side}',\n",
    "        ]\n",
    "    )\n",
    "\n",
    "    clusters[f'Hand{side}'] = ktk.kinematics.create_cluster(\n",
    "        markers, [\n",
    "            f'WristJointCenter{side}',\n",
    "            f'CarpalMetaHead2{side}',\n",
    "            f'CarpalMetaHead5{side}',\n",
    "        ]\n",
    "    )\n",
    "\n",
    "    clusters[f'Thigh{side}'] = ktk.kinematics.create_cluster(\n",
    "        markers, [\n",
    "            f'HipJointCenter{side}',  # Normally I would remove this one.\n",
    "            f'LateralFemoralEpicondyle{side}',\n",
    "            f'MedialFemoralEpicondyle{side}',\n",
    "            f'KneeJointCenter{side}',\n",
    "        ]\n",
    "    )\n",
    "\n",
    "    clusters[f'Leg{side}'] = ktk.kinematics.create_cluster(\n",
    "        markers, [\n",
    "            f'Leg{side}_Marker1',\n",
    "            f'Leg{side}_Marker2',\n",
    "            f'Leg{side}_Marker3',\n",
    "            f'Leg{side}_Marker4',\n",
    "            f'LateralMalleolus{side}',\n",
    "            f'MedialMalleolus{side}',\n",
    "            f'KneeJointCenter{side}',\n",
    "            f'AnkleJointCenter{side}',\n",
    "        ]\n",
    "    )"
   ]
  },
  {
   "cell_type": "markdown",
   "id": "8b43bbca-ccfd-4182-bce6-c9536ac1ff2f",
   "metadata": {},
   "source": [
    "Estimate centers of mass\n",
    "------------------------\n",
    "\n",
    "Now that the joint centers are defined, it is possible to estimate the center of mass for every segment."
   ]
  },
  {
   "cell_type": "code",
   "execution_count": null,
   "id": "ef7c3abb-3f0a-4e8b-b22d-0cf144b5d76c",
   "metadata": {},
   "outputs": [],
   "source": [
    "segments = [\n",
    "    'Pelvis',\n",
    "    'Thorax',\n",
    "    'HeadNeck',\n",
    "    'ArmR',\n",
    "    'ArmL',\n",
    "    'ForearmR',\n",
    "    'ForearmL',\n",
    "    'HandR',\n",
    "    'HandL',\n",
    "    'ThighR',\n",
    "    'ThighL',\n",
    "    'LegR',\n",
    "    'LegL'\n",
    "]\n",
    "\n",
    "com = ktk.anthropometrics.estimate_center_of_mass(\n",
    "    markers, segments)\n",
    "\n",
    "# Paint the centers of mass in cyan for better visualization\n",
    "for marker in com.data:\n",
    "    com = com.add_data_info(marker, 'Color', 'c')\n",
    "    \n",
    "player = ktk.Player(\n",
    "    markers,\n",
    "    com,\n",
    "    segments=ktk.anthropometrics.LINKS,  # Lines to better see the human shape\n",
    "    **viewpoint\n",
    ")"
   ]
  },
  {
   "cell_type": "markdown",
   "id": "b9859b46-9ac5-4251-a07e-609e425d7cac",
   "metadata": {},
   "source": [
    "### Track local coordinate systems\n",
    "\n",
    "To perform a kinematic analysis of a given task, one could use the reconstructed markers to set standard segment's local coordinate system and track those segments."
   ]
  },
  {
   "cell_type": "code",
   "execution_count": null,
   "id": "729c3056-4ccc-4b9b-bd8c-2792b423c952",
   "metadata": {},
   "outputs": [],
   "source": [
    "bodies = ktk.anthropometrics.track_local_coordinate_systems(\n",
    "        markers, segments)\n",
    "\n",
    "player = ktk.Player(\n",
    "    markers,\n",
    "    bodies,\n",
    "    segments=ktk.anthropometrics.LINKS,  # Lines to better see the human shape\n",
    "    **viewpoint\n",
    ")"
   ]
  }
 ],
 "metadata": {
  "kernelspec": {
   "display_name": "Python 3 (ipykernel)",
   "language": "python",
   "name": "python3"
  },
  "language_info": {
   "codemirror_mode": {
    "name": "ipython",
    "version": 3
   },
   "file_extension": ".py",
   "mimetype": "text/x-python",
   "name": "python",
   "nbconvert_exporter": "python",
   "pygments_lexer": "ipython3",
   "version": "3.8.10"
  }
 },
 "nbformat": 4,
 "nbformat_minor": 5
}
