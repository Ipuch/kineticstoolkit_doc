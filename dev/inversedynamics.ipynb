{
 "cells": [
  {
   "cell_type": "markdown",
   "metadata": {},
   "source": [
    "Inverse Dynamics\n",
    "===============\n",
    "The [inversedynamics](../api/kineticstoolkit.inversedynamics.rst) module calculates the proximal forces and moments based on the segment's kinematics and distal forces and moments, based on the general method published in [1].\n",
    "\n",
    "The results are the forces and moments applied by the distal segment on the\n",
    "proximal articulation, in the global coordinates system.\n",
    "\n",
    ".. warning:: This is an experimental module, its API and behaviour may change in the future.\n",
    "\n",
    "This module will be redesigned to make use of the `anthropometrics` module currently in development.\n",
    "\n",
    "[1] R. Dumas, R. Aissaoui, and J. A. De Guise, \"A 3D generic inverse dynamic method using wrench notation and quaternion algebra,\" Comput Meth Biomech Biomed Eng, vol. 7, no. 3, pp. 159–166, 2004."
   ]
  },
  {
   "cell_type": "code",
   "execution_count": null,
   "metadata": {},
   "outputs": [],
   "source": [
    "import kineticstoolkit.lab as ktk\n",
    "import matplotlib.pyplot as plt"
   ]
  },
  {
   "cell_type": "markdown",
   "metadata": {},
   "source": [
    "Loading sample data\n",
    "-------------------\n",
    "In this tutorial, we will load propulsion data from a sprint in Wheelchair Basketball. Kinetics were recorded using an instrumented wheel (SmartWheel) and kinematics were recorded using an optoelectronic system (Optitrack). Both are synchronized."
   ]
  },
  {
   "cell_type": "code",
   "execution_count": null,
   "metadata": {},
   "outputs": [],
   "source": [
    "# Load kinetics\n",
    "kinetics = ktk.load(\n",
    "    ktk.config.root_folder +\n",
    "    '/data/inversedynamics/basketball_kinetics.ktk.zip')\n",
    "\n",
    "# Change some signs to match (locally): x anterior, # y up, z lateral (right)\n",
    "kinetics.data['Forces'][:, 0] = -kinetics.data['Forces'][:, 0]\n",
    "kinetics.data['Forces'][:, 1] = -kinetics.data['Forces'][:, 1]\n",
    "\n",
    "kinetics.data['Moments'][:, 0] = -kinetics.data['Moments'][:, 0]\n",
    "kinetics.data['Moments'][:, 1] = -kinetics.data['Moments'][:, 1]\n",
    "\n",
    "# Keep everything between sync and stop recording events.\n",
    "kinetics = kinetics.get_ts_between_events('sync', 'stop')\n",
    "\n",
    "# Look at the data\n",
    "plt.subplot(1, 2, 1)\n",
    "kinetics.plot('Forces')\n",
    "plt.subplot(1, 2, 2)\n",
    "kinetics.plot('Moments')"
   ]
  },
  {
   "cell_type": "code",
   "execution_count": null,
   "metadata": {},
   "outputs": [],
   "source": [
    "# Load kinematics\n",
    "kinematics = ktk.load(\n",
    "    ktk.config.root_folder +\n",
    "    '/data/inversedynamics/basketball_kinematics.ktk.zip')['Kinematics']\n",
    "\n",
    "# Extract markers\n",
    "markers = kinematics['Markers']\n",
    "markers.events = kinetics.events\n",
    "\n",
    "# Extract frames\n",
    "frames = kinematics['ReferenceFrames']\n",
    "frames.events = kinetics.events\n",
    "\n",
    "# Keep everything between sync and stop recording events.\n",
    "markers = markers.get_ts_between_events('sync', 'stop')\n",
    "frames = frames.get_ts_between_events('sync', 'stop')\n",
    "\n",
    "# Plot one sample\n",
    "markers.plot('RadialStyloidR')\n",
    "\n",
    "# Check what markers are available\n",
    "markers.data"
   ]
  },
  {
   "cell_type": "code",
   "execution_count": null,
   "metadata": {},
   "outputs": [],
   "source": [
    "# Check what frames are available\n",
    "frames.data"
   ]
  },
  {
   "cell_type": "markdown",
   "metadata": {},
   "source": [
    "Put everything relevant into one, synchronized TimeSeries\n",
    "------------------------------------------------\n",
    "\n",
    "We will now create a single TimeSeries with every relevant signal. Note that for kinematics, we use `merge` instead of simply copying the data, because kinetics and kinematics have different sampling rate and therefore the data have different lengths. Merging takes care of resampling."
   ]
  },
  {
   "cell_type": "code",
   "execution_count": null,
   "metadata": {},
   "outputs": [],
   "source": [
    "ts_all = ktk.TimeSeries(time=kinetics.time, events=kinetics.events)\n",
    "\n",
    "# Add frames (to put pushrim kinetics in global coordinates,\n",
    "# and at the end to express shoulder dynamics in local coordinates).\n",
    "ts_all = ts_all.merge(\n",
    "    frames.get_subset(\n",
    "        ['WheelR', 'HumerusR', 'Trunk']),\n",
    "    resample=True)\n",
    "\n",
    "# Add the forces and moments, expressed in global coordinates.\n",
    "ts_all.data['HubForces'] = ktk.geometry.get_global_coordinates(\n",
    "    kinetics.data['Forces'],\n",
    "    ts_all.data['WheelR']\n",
    "    )\n",
    "\n",
    "ts_all.data['HubMoments'] = ktk.geometry.get_global_coordinates(\n",
    "    kinetics.data['Moments'],\n",
    "    ts_all.data['WheelR']\n",
    "    )\n",
    "\n",
    "# Add relevant markers\n",
    "ts_all = ts_all.merge(\n",
    "    markers.get_subset(\n",
    "        ['RearWheelCenterR', 'RadialStyloidR', 'ElbowR', 'Body_AcromionR']),\n",
    "    resample=True)\n",
    "\n",
    "# Check the contents of this TimeSeries\n",
    "ts_all.data"
   ]
  },
  {
   "cell_type": "markdown",
   "metadata": {},
   "source": [
    "Calculate the force and moments at the wrist\n",
    "-------------------------------------------\n",
    "The same calculation is done on every segment, from distal to proximal. We begin with the segment 'Wheel' with the point of force application at the hub (since the measured values are referred at the hub)."
   ]
  },
  {
   "cell_type": "code",
   "execution_count": null,
   "metadata": {},
   "outputs": [],
   "source": [
    "# Create an empty TimeSeries\n",
    "ts = ktk.TimeSeries(time=kinetics.time, events=kinetics.events)\n",
    "\n",
    "# Add the kinetics data to this TimeSeries\n",
    "ts.data['DistalForces'] = ts_all.data['HubForces']\n",
    "ts.data['DistalMoments'] = ts_all.data['HubMoments']\n",
    "\n",
    "# Add the kinematics data to this TimeSeries.\n",
    "ts.data['ForceApplicationPosition'] = ts_all.data['RearWheelCenterR']\n",
    "ts.data['DistalJointPosition'] = ts_all.data['RearWheelCenterR']\n",
    "ts.data['ProximalJointPosition'] = ts_all.data['RadialStyloidR']\n",
    "\n",
    "# Check the contents of the resulting TimeSeries.\n",
    "ts.data"
   ]
  },
  {
   "cell_type": "markdown",
   "metadata": {},
   "source": [
    "We now have everything to start computing the forces and moments at the wrist."
   ]
  },
  {
   "cell_type": "code",
   "execution_count": null,
   "metadata": {},
   "outputs": [],
   "source": [
    "# We neglect the inertial properties of the wheel. This is a limit and we could improve on this.\n",
    "inertial_constants = {'Mass' : 0,\n",
    "                      'COMProximalRatio' : 0,\n",
    "                      'GyrationCOMRatio': 0}"
   ]
  },
  {
   "cell_type": "markdown",
   "metadata": {},
   "source": [
    "### Calculate the COM position of the wheel segment"
   ]
  },
  {
   "cell_type": "code",
   "execution_count": null,
   "metadata": {},
   "outputs": [],
   "source": [
    "ts = ktk.inversedynamics.calculate_com_position(ts, inertial_constants)\n",
    "\n",
    "ts.data"
   ]
  },
  {
   "cell_type": "markdown",
   "metadata": {},
   "source": [
    "### Calculate the COM acceleration of the wheel segment"
   ]
  },
  {
   "cell_type": "code",
   "execution_count": null,
   "metadata": {},
   "outputs": [],
   "source": [
    "ts = ktk.inversedynamics.calculate_com_acceleration(ts, 'butter', fc=10)\n",
    "\n",
    "ts.data"
   ]
  },
  {
   "cell_type": "markdown",
   "metadata": {},
   "source": [
    "### Calculate the wheel segment's angles around the global x, y and z axes"
   ]
  },
  {
   "cell_type": "code",
   "execution_count": null,
   "metadata": {},
   "outputs": [],
   "source": [
    "ts = ktk.inversedynamics.calculate_segment_angles(ts)\n",
    "\n",
    "ts.data"
   ]
  },
  {
   "cell_type": "markdown",
   "metadata": {},
   "source": [
    "### Calculate the segment's angular velocity and acceleration around the global x, y and z axes"
   ]
  },
  {
   "cell_type": "code",
   "execution_count": null,
   "metadata": {},
   "outputs": [],
   "source": [
    "ts = ktk.inversedynamics.calculate_segment_rotation_rates(ts, 'butter', fc=10)\n",
    "\n",
    "ts.data"
   ]
  },
  {
   "cell_type": "markdown",
   "metadata": {},
   "source": [
    "### Finally, calculate the proximal forces and moments"
   ]
  },
  {
   "cell_type": "code",
   "execution_count": null,
   "metadata": {},
   "outputs": [],
   "source": [
    "ts = ktk.inversedynamics.calculate_proximal_wrench(ts, inertial_constants)\n",
    "\n",
    "ts.data"
   ]
  },
  {
   "cell_type": "markdown",
   "metadata": {},
   "source": [
    "### Add the calculated distal forces and moments to the ts_all TimeSeries"
   ]
  },
  {
   "cell_type": "code",
   "execution_count": null,
   "metadata": {},
   "outputs": [],
   "source": [
    "ts_all.data['WristForces'] = ts.data['ProximalForces']\n",
    "ts_all.data['WristMoments'] = ts.data['ProximalMoments']"
   ]
  },
  {
   "cell_type": "code",
   "execution_count": null,
   "metadata": {},
   "outputs": [],
   "source": [
    "# Plot the hub and wrist forces (identical since\n",
    "# there were no inertial constants on this segment)\n",
    "ts_all.plot(['HubForces', 'WristForces'])"
   ]
  },
  {
   "cell_type": "code",
   "execution_count": null,
   "metadata": {},
   "outputs": [],
   "source": [
    "# Plot the hub and wrist moments (not identical\n",
    "# because of the lever arm between the hub and wrist)\n",
    "ts_all.plot(['HubMoments', 'WristMoments'])"
   ]
  },
  {
   "cell_type": "markdown",
   "metadata": {},
   "source": [
    "Calculate the force and moments at the elbow\n",
    "-------------------------------------------\n",
    "\n",
    "The method is identical for the other segments. However, for these segments, we will define inertial constants based on anthropometric tables."
   ]
  },
  {
   "cell_type": "code",
   "execution_count": null,
   "metadata": {},
   "outputs": [],
   "source": [
    "inertial_constants = ktk.inversedynamics.get_anthropometrics(\n",
    "    segment_name='Forearm',\n",
    "    total_mass=80)\n",
    "\n",
    "inertial_constants"
   ]
  },
  {
   "cell_type": "code",
   "execution_count": null,
   "metadata": {},
   "outputs": [],
   "source": [
    "# Create an empty TimeSeries\n",
    "ts = ktk.TimeSeries(time=kinetics.time, events=kinetics.events)\n",
    "\n",
    "# Add the kinetics data to this TimeSeries\n",
    "ts.data['DistalForces'] = ts_all.data['WristForces']\n",
    "ts.data['DistalMoments'] = ts_all.data['WristMoments']\n",
    "\n",
    "# Add the kinematics data to this TimeSeries.\n",
    "ts.data['ForceApplicationPosition'] = ts_all.data['RadialStyloidR']\n",
    "ts.data['DistalJointPosition'] = ts_all.data['RadialStyloidR']\n",
    "ts.data['ProximalJointPosition'] = ts_all.data['ElbowR']\n",
    "\n",
    "# Calculate the COM position and acceleration\n",
    "ts = ktk.inversedynamics.calculate_com_position(ts, inertial_constants)\n",
    "ts = ktk.inversedynamics.calculate_com_acceleration(ts, 'butter', fc=10)\n",
    "\n",
    "# Calculate the segment's angle, angular velocity and angular acceleration\n",
    "ts = ktk.inversedynamics.calculate_segment_angles(ts)\n",
    "ts = ktk.inversedynamics.calculate_segment_rotation_rates(ts, 'butter', fc=10)\n",
    "\n",
    "# Calculate the proximal forces and moments\n",
    "ts = ktk.inversedynamics.calculate_proximal_wrench(ts, inertial_constants)\n",
    "\n",
    "# Add the calculated forces and moments to ts_all\n",
    "ts_all.data['ElbowForces'] = ts.data['ProximalForces']\n",
    "ts_all.data['ElbowMoments'] = ts.data['ProximalMoments']\n",
    "\n",
    "# Compare the wrist forces to the elbow forces\n",
    "ts_all.plot(['WristForces', 'ElbowForces'])"
   ]
  },
  {
   "cell_type": "code",
   "execution_count": null,
   "metadata": {},
   "outputs": [],
   "source": [
    "# Compare the wrist moments to the elbow moments\n",
    "ts_all.plot(['WristMoments', 'ElbowMoments'])"
   ]
  },
  {
   "cell_type": "markdown",
   "metadata": {},
   "source": [
    "Calculate the force and moments at the shoulder\n",
    "--------------------------------------------\n",
    "\n",
    "We proceed exactly as for the elbow."
   ]
  },
  {
   "cell_type": "code",
   "execution_count": null,
   "metadata": {},
   "outputs": [],
   "source": [
    "inertial_constants = ktk.inversedynamics.get_anthropometrics(\n",
    "    segment_name='UpperArm',\n",
    "    total_mass=80)\n",
    "\n",
    "inertial_constants"
   ]
  },
  {
   "cell_type": "code",
   "execution_count": null,
   "metadata": {},
   "outputs": [],
   "source": [
    "# Create an empty TimeSeries\n",
    "ts = ktk.TimeSeries(time=kinetics.time, events=kinetics.events)\n",
    "\n",
    "# Add the kinetics data to this TimeSeries\n",
    "ts.data['DistalForces'] = ts_all.data['ElbowForces']\n",
    "ts.data['DistalMoments'] = ts_all.data['ElbowMoments']\n",
    "\n",
    "# Add the kinematics data to this TimeSeries.\n",
    "ts.data['ForceApplicationPosition'] = ts_all.data['ElbowR']\n",
    "ts.data['DistalJointPosition'] = ts_all.data['ElbowR']\n",
    "ts.data['ProximalJointPosition'] = ts_all.data['Body_AcromionR']\n",
    "\n",
    "# Calculate the COM position and acceleration\n",
    "ts = ktk.inversedynamics.calculate_com_position(ts, inertial_constants)\n",
    "ts = ktk.inversedynamics.calculate_com_acceleration(ts, 'butter', fc=10)\n",
    "\n",
    "# Calculate the segment's angle, angular velocity and angular acceleration\n",
    "ts = ktk.inversedynamics.calculate_segment_angles(ts)\n",
    "ts = ktk.inversedynamics.calculate_segment_rotation_rates(ts, 'butter', fc=10)\n",
    "\n",
    "# Calculate the proximal forces and moments\n",
    "ts = ktk.inversedynamics.calculate_proximal_wrench(ts, inertial_constants)\n",
    "\n",
    "# Add the calculated forces and moments to ts_all\n",
    "ts_all.data['ShoulderForces'] = ts.data['ProximalForces']\n",
    "ts_all.data['ShoulderMoments'] = ts.data['ProximalMoments']\n",
    "\n",
    "# Compare the elbow forces to the shoulder forces\n",
    "ts_all.plot(['ElbowForces', 'ShoulderForces'])"
   ]
  },
  {
   "cell_type": "code",
   "execution_count": null,
   "metadata": {},
   "outputs": [],
   "source": [
    "# Compare the elbow moments to the shoulder moments\n",
    "ts_all.plot(['ElbowMoments', 'ShoulderMoments'])"
   ]
  },
  {
   "cell_type": "markdown",
   "metadata": {},
   "source": [
    "Get the forces and moments in the local coordinate system\n",
    "---------------------------------------------------------\n",
    "Please note that every force and moment we just calculated is expressed in global coordinates, which is of limited value for interpretation. It is much more useful to express these data in local coordinates. Several conventions may be used, here we will express the shoulder forces in the trunk coordinate system, and the shoulder moments in the humeral coordinate system."
   ]
  },
  {
   "cell_type": "code",
   "execution_count": null,
   "metadata": {},
   "outputs": [],
   "source": [
    "# Create a new TimeSeries\n",
    "local_joint_dynamics = ktk.TimeSeries(time=ts_all.time, events=ts_all.events)\n",
    "\n",
    "# Fill it with the external forces\n",
    "local_joint_dynamics.data['Forces'] = ktk.geometry.get_local_coordinates(\n",
    "    ts_all.data['ShoulderForces'],\n",
    "    ts_all.data['Trunk']\n",
    ")\n",
    "\n",
    "# This is the forces applied by the trunk on the humerus. Normally we want the contrary,\n",
    "# the external forces applied by the humerus on the trunk:\n",
    "local_joint_dynamics.data['Forces'] = -local_joint_dynamics.data['Forces']\n",
    "\n",
    "local_joint_dynamics.data['Moments'] = ktk.geometry.get_local_coordinates(\n",
    "    ts_all.data['ShoulderMoments'],\n",
    "    ts_all.data['HumerusR']\n",
    ")"
   ]
  },
  {
   "cell_type": "markdown",
   "metadata": {},
   "source": [
    "### Local forces\n",
    "\n",
    "Let's plot the shoulder forces in the trunk reference frame:"
   ]
  },
  {
   "cell_type": "code",
   "execution_count": null,
   "metadata": {},
   "outputs": [],
   "source": [
    "local_joint_dynamics.plot('Forces')\n",
    "plt.legend(['Anterior', 'Upward', 'Lateral'])\n",
    "print('External forces in the trunk coordinate system:')"
   ]
  },
  {
   "cell_type": "markdown",
   "metadata": {},
   "source": [
    "### Local moments"
   ]
  },
  {
   "cell_type": "code",
   "execution_count": null,
   "metadata": {},
   "outputs": [],
   "source": [
    "local_joint_dynamics.plot('Moments')\n",
    "plt.legend(['Abduction', 'Internal rotation', 'Flexion'])\n",
    "print('Net internal shoulder moments:')"
   ]
  },
  {
   "cell_type": "markdown",
   "metadata": {},
   "source": [
    "For more information on inversedynamics, please check the [API Reference for the inversedynamics module](../api/kineticstoolkit.inversedynamics.rst)."
   ]
  }
 ],
 "metadata": {
  "kernelspec": {
   "display_name": "Python 3 (ipykernel)",
   "language": "python",
   "name": "python3"
  },
  "language_info": {
   "codemirror_mode": {
    "name": "ipython",
    "version": 3
   },
   "file_extension": ".py",
   "mimetype": "text/x-python",
   "name": "python",
   "nbconvert_exporter": "python",
   "pygments_lexer": "ipython3",
   "version": "3.8.10"
  }
 },
 "nbformat": 4,
 "nbformat_minor": 4
}
