{
 "cells": [
  {
   "cell_type": "markdown",
   "metadata": {},
   "source": [
    "Reconstructing virtual markers\n",
    "==============================\n",
    "\n",
    "\n",
    "\n",
    "In this tutorial, we will reconstruct virtual markers for anatomic landmarks that were not physically instrumented during the movement acquisition. We usually do this kind of reconstruction when it is not practical or feasible to stick a marker on an anatomical landmark. Instead, we track clusters of markers on rigid bodies affixed to the segment, and we express the position of virtual markers relative to these clusters.\n",
    "\n",
    "This process has two steps:\n",
    "\n",
    "1. A calibration step with several very short calibration acquisitions:\n",
    "\n",
    "    a) A static acquisition of a few seconds where we can see every marker.\n",
    "\n",
    "    b) Sometimes, probing acquisitions, one for each virtual marker. In each of these short acquisitions, we point the anatomical landmark using a calibrated probe. The aim is to express these landmarks as part of their segment cluster. Since they move rigidly with the marker clusters, then we could reconstruct the landmarks during the analysed tasks, using the tracked clusters.\n",
    "\n",
    "2. An task analysis step where the clusters are tracked and the virtual markers are reconstructed into the task acquisition."
   ]
  },
  {
   "cell_type": "code",
   "execution_count": null,
   "metadata": {},
   "outputs": [],
   "source": [
    "import kineticstoolkit.lab as ktk\n",
    "import numpy as np"
   ]
  },
  {
   "cell_type": "markdown",
   "metadata": {},
   "source": [
    "Read and visualize marker trajectories\n",
    "--------------------------------------\n",
    "\n",
    "We proceed exactly as in the previous tutorials, but this time we will perform the analysis based on a minimal set of markers. Let's say that for the right arm and forearm, all we have is one real marker on the lateral epicondyle, and two plates of three markers affixed to the arm and forearm segments (we will show every other in blue for easier visualization)."
   ]
  },
  {
   "cell_type": "code",
   "execution_count": null,
   "metadata": {},
   "outputs": [],
   "source": [
    "# Read the markers\n",
    "markers = ktk.kinematics.read_c3d_file(\n",
    "    ktk.config.root_folder + '/data/kinematics/sample_propulsion.c3d')\n",
    "\n",
    "# Set every unnecessary markers to blue\n",
    "keep_white = ['LateralEpicondyleR', 'ArmR1', 'ArmR2', 'ArmR3',\n",
    "        'ForearmR1', 'ForearmR2', 'ForearmR3']\n",
    "\n",
    "for marker_name in markers.data:\n",
    "    if marker_name not in keep_white:\n",
    "        markers = markers.add_data_info(marker_name, 'Color', 'b')\n",
    "\n",
    "# Set the point of view for 3D visualization\n",
    "viewing_options = {\n",
    "    'zoom': 3.5,\n",
    "    'azimuth': 0.8,\n",
    "    'elevation': 0.16,\n",
    "    'translation': (0.2, -0.7)\n",
    "}\n",
    "\n",
    "# Create the player\n",
    "player = ktk.Player(markers, **viewing_options)\n",
    "player.to_html5(start_time=0, stop_time=1)"
   ]
  },
  {
   "cell_type": "markdown",
   "metadata": {},
   "source": [
    "The aim of this tutorial is to reconstruct the right acromion, medial epicondyle and both styloids using static and probing acquisitions. Let's begin."
   ]
  },
  {
   "cell_type": "markdown",
   "metadata": {},
   "source": [
    "Calibration: Defining cluster configurations using a static acquisition\n",
    "-----------------------------------------------------------------------\n",
    "\n",
    "In the static acquisition, every marker should be visible. We use this trial to define, for each cluster, how the cluster's markers are located each relative to the other.\n",
    "\n",
    "For this example, we will create clusters 'ArmR' and 'ForearmR'."
   ]
  },
  {
   "cell_type": "code",
   "execution_count": null,
   "metadata": {},
   "outputs": [],
   "source": [
    "clusters = dict()\n",
    "\n",
    "# Read the static trial\n",
    "markers_static = ktk.kinematics.read_c3d_file(\n",
    "    ktk.config.root_folder + '/data/kinematics/sample_static.c3d')\n",
    "\n",
    "# Show this trial, just to inspect it\n",
    "player = ktk.Player(markers_static, **viewing_options)\n",
    "player.to_html5(start_time=0, stop_time=0.5)"
   ]
  },
  {
   "cell_type": "markdown",
   "metadata": {},
   "source": [
    "Using this trial, we now define the arm cluster:"
   ]
  },
  {
   "cell_type": "code",
   "execution_count": null,
   "metadata": {},
   "outputs": [],
   "source": [
    "clusters['ArmR'] = ktk.kinematics.create_cluster(\n",
    "    markers_static,\n",
    "    marker_names=['ArmR1', 'ArmR2', 'ArmR3', 'LateralEpicondyleR'])\n",
    "\n",
    "clusters['ArmR']"
   ]
  },
  {
   "cell_type": "markdown",
   "metadata": {},
   "source": [
    "We proceed the same way for the forearm:"
   ]
  },
  {
   "cell_type": "code",
   "execution_count": null,
   "metadata": {},
   "outputs": [],
   "source": [
    "clusters['ForearmR'] = ktk.kinematics.create_cluster(\n",
    "    markers_static,\n",
    "    marker_names=['ForearmR1', 'ForearmR2', 'ForearmR3'])\n",
    "\n",
    "clusters['ForearmR']"
   ]
  },
  {
   "cell_type": "markdown",
   "metadata": {},
   "source": [
    "For the probe, we will define its cluster from its known specifications. Every 6 local point is expressed relative to a reference frame that is centered at the probe tip:"
   ]
  },
  {
   "cell_type": "code",
   "execution_count": null,
   "metadata": {},
   "outputs": [],
   "source": [
    "clusters['Probe'] = {\n",
    "    'ProbeTip': np.array(\n",
    "        [[0.0, 0.0, 0.0, 1.0]]),\n",
    "    'Probe1': np.array(\n",
    "        [[0.0021213, -0.0158328, 0.0864285, 1.0]]),\n",
    "    'Probe2': np.array(\n",
    "        [[0.0021213, 0.0158508, 0.0864285, 1.0]]),\n",
    "    'Probe3': np.array(\n",
    "        [[0.0020575, 0.0160096, 0.1309445, 1.0]]),\n",
    "    'Probe4': np.array(\n",
    "        [[0.0021213, 0.0161204, 0.1754395, 1.0]]),\n",
    "    'Probe5': np.array(\n",
    "        [[0.0017070, -0.0155780, 0.1753805, 1.0]]),\n",
    "    'Probe6': np.array(\n",
    "        [[0.0017762, -0.0156057, 0.1308888, 1.0]]),\n",
    "}\n",
    "\n",
    "clusters['Probe']"
   ]
  },
  {
   "cell_type": "markdown",
   "metadata": {},
   "source": [
    "Now that we defined these clusters, we will be able to track those in every other acquisition. This process can be done using the [track_cluster()](../api/kineticstoolkit.kinematics.track_cluster.rst) function."
   ]
  },
  {
   "cell_type": "markdown",
   "metadata": {},
   "source": [
    "Calibration: Defining the virtual marker configurations based on probing acquisitions\n",
    "-------------------------------------------------------------------------------------\n",
    "\n",
    "Now we will go though every probing acquisition and apply the same process on each acquisition:\n",
    "\n",
    "1. Locate the probe tip using the probe cluster;\n",
    "\n",
    "2. Add the probe tip to the segment's cluster."
   ]
  },
  {
   "cell_type": "markdown",
   "metadata": {},
   "source": [
    "We will go step by step with the acromion, then we will do the other ones."
   ]
  },
  {
   "cell_type": "code",
   "execution_count": null,
   "metadata": {},
   "outputs": [],
   "source": [
    "# Load the markers from the acromion probing trial\n",
    "probing_markers = ktk.kinematics.read_c3d_file(\n",
    "    ktk.config.root_folder + '/data/kinematics/sample_probing_acromion_R.c3d')\n",
    "\n",
    "# Track the probe cluster\n",
    "tracked_markers = ktk.kinematics.track_cluster(\n",
    "    probing_markers,\n",
    "    clusters['Probe']\n",
    ")\n",
    "\n",
    "# Look at the contents of the tracked_markers TimeSeries\n",
    "tracked_markers.data"
   ]
  },
  {
   "cell_type": "markdown",
   "metadata": {},
   "source": [
    "We see that even if the probe tip was not a real marker, its position was reconstructed based on the tracking of the other probe markers. We will add the probe tip to the markers, as the location of the acromion."
   ]
  },
  {
   "cell_type": "code",
   "execution_count": null,
   "metadata": {},
   "outputs": [],
   "source": [
    "probing_markers.data['AcromionR'] = tracked_markers.data['ProbeTip']"
   ]
  },
  {
   "cell_type": "markdown",
   "metadata": {},
   "source": [
    "Now that the probing markers contain the new marker 'AcromionR', we can add it to the arm cluster."
   ]
  },
  {
   "cell_type": "code",
   "execution_count": null,
   "metadata": {},
   "outputs": [],
   "source": [
    "clusters['ArmR'] = ktk.kinematics.extend_cluster(\n",
    "    probing_markers, clusters['ArmR'], new_point = 'AcromionR'\n",
    ")\n",
    "\n",
    "# Look at the new content of the arm cluster\n",
    "clusters['ArmR']"
   ]
  },
  {
   "cell_type": "markdown",
   "metadata": {},
   "source": [
    "Now, we can process every other probing acquisition the same way."
   ]
  },
  {
   "cell_type": "code",
   "execution_count": null,
   "metadata": {},
   "outputs": [],
   "source": [
    "# Right medial epicondyle\n",
    "probing_markers = ktk.kinematics.read_c3d_file(\n",
    "    ktk.config.root_folder\n",
    "    + '/data/kinematics/sample_probing_medial_epicondyle_R.c3d')\n",
    "\n",
    "tracked_markers = ktk.kinematics.track_cluster(\n",
    "    probing_markers, clusters['Probe']\n",
    ")\n",
    "\n",
    "probing_markers.data['MedialEpicondyleR'] = tracked_markers.data['ProbeTip']\n",
    "\n",
    "clusters['ArmR'] = ktk.kinematics.extend_cluster(\n",
    "    probing_markers, clusters['ArmR'], new_point = 'MedialEpicondyleR'\n",
    ")\n",
    "\n",
    "# Right radial styloid\n",
    "probing_markers = ktk.kinematics.read_c3d_file(\n",
    "    ktk.config.root_folder\n",
    "    + '/data/kinematics/sample_probing_radial_styloid_R.c3d')\n",
    "\n",
    "tracked_markers = ktk.kinematics.track_cluster(\n",
    "    probing_markers, clusters['Probe']\n",
    ")\n",
    "\n",
    "probing_markers.data['RadialStyloidR'] = tracked_markers.data['ProbeTip']\n",
    "\n",
    "clusters['ForearmR'] = ktk.kinematics.extend_cluster(\n",
    "    probing_markers, clusters['ForearmR'], new_point = 'RadialStyloidR'\n",
    ")\n",
    "\n",
    "# Right ulnar styloid\n",
    "probing_markers = ktk.kinematics.read_c3d_file(\n",
    "    ktk.config.root_folder\n",
    "    + '/data/kinematics/sample_probing_ulnar_styloid_R.c3d')\n",
    "\n",
    "tracked_markers = ktk.kinematics.track_cluster(\n",
    "    probing_markers, clusters['Probe']\n",
    ")\n",
    "\n",
    "probing_markers.data['UlnarStyloidR'] = tracked_markers.data['ProbeTip']\n",
    "\n",
    "clusters['ForearmR'] = ktk.kinematics.extend_cluster(\n",
    "    probing_markers, clusters['ForearmR'], new_point = 'UlnarStyloidR'\n",
    ")"
   ]
  },
  {
   "cell_type": "markdown",
   "metadata": {},
   "source": [
    "Now every markers that belong to a cluster are defined, be it real or virtual:"
   ]
  },
  {
   "cell_type": "code",
   "execution_count": null,
   "metadata": {},
   "outputs": [],
   "source": [
    "clusters['ArmR']"
   ]
  },
  {
   "cell_type": "code",
   "execution_count": null,
   "metadata": {},
   "outputs": [],
   "source": [
    "clusters['ForearmR']"
   ]
  },
  {
   "cell_type": "markdown",
   "metadata": {},
   "source": [
    "Task analysis: Tracking the clusters\n",
    "------------------------------------\n",
    "\n",
    "Now that we defined the clusters and inluded virtual markers to it, we are ready to process the experimental trial we loaded at the beginning of this tutorial. We already loaded the markers; we will now track the cluster to obtain the position of the virtual markers."
   ]
  },
  {
   "cell_type": "code",
   "execution_count": null,
   "metadata": {},
   "outputs": [],
   "source": [
    "markers = markers.merge(\n",
    "    ktk.kinematics.track_cluster(\n",
    "        markers, clusters['ArmR']\n",
    "    )\n",
    ")\n",
    "\n",
    "markers = markers.merge(\n",
    "    ktk.kinematics.track_cluster(\n",
    "        markers, clusters['ForearmR']\n",
    "    )\n",
    ")\n",
    "\n",
    "# Show those rigid bodies and markers in a player\n",
    "player = ktk.Player(markers, **viewing_options)\n",
    "\n",
    "player.to_html5(start_time=0, stop_time=1)"
   ]
  },
  {
   "cell_type": "markdown",
   "metadata": {},
   "source": [
    "That is it, we reconstructed the acromion, medial epicondyle and both styloids from probing acquisitions,  without requiring physical markers on these landmarks. We can conclude by adding links for clearer visualization. From now one, we could continue our analysis and calculate the elbow angles as in the previous tutorial."
   ]
  },
  {
   "cell_type": "code",
   "execution_count": null,
   "metadata": {},
   "outputs": [],
   "source": [
    "# Add the segments\n",
    "segments = {\n",
    "    'ArmR': {\n",
    "        'Color': [1, 0.25, 0],\n",
    "        'Links': [['AcromionR', 'MedialEpicondyleR'],\n",
    "                  ['AcromionR', 'LateralEpicondyleR'],\n",
    "                  ['MedialEpicondyleR', 'LateralEpicondyleR']]\n",
    "    },\n",
    "    'ForearmR': {\n",
    "        'Color': [1, 0.5, 0],\n",
    "        'Links': [['MedialEpicondyleR', 'RadialStyloidR'],\n",
    "                  ['MedialEpicondyleR', 'UlnarStyloidR'],\n",
    "                  ['LateralEpicondyleR', 'RadialStyloidR'],\n",
    "                  ['LateralEpicondyleR', 'UlnarStyloidR'],\n",
    "                  ['UlnarStyloidR', 'RadialStyloidR']]\n",
    "    }\n",
    "}\n",
    "\n",
    "player = ktk.Player(markers, segments=segments, **viewing_options)\n",
    "player.to_html5(start_time=0, stop_time=1)"
   ]
  },
  {
   "cell_type": "markdown",
   "metadata": {},
   "source": [
    "For more information on kinematics, please check the [API Reference for the kinematics module](../api/kineticstoolkit.kinematics.rst)."
   ]
  }
 ],
 "metadata": {
  "kernelspec": {
   "display_name": "Python 3 (ipykernel)",
   "language": "python",
   "name": "python3"
  },
  "language_info": {
   "codemirror_mode": {
    "name": "ipython",
    "version": 3
   },
   "file_extension": ".py",
   "mimetype": "text/x-python",
   "name": "python",
   "nbconvert_exporter": "python",
   "pygments_lexer": "ipython3",
   "version": "3.8.10"
  },
  "toc": {
   "base_numbering": "1",
   "nav_menu": {},
   "number_sections": true,
   "sideBar": true,
   "skip_h1_title": true,
   "title_cell": "Table of Contents",
   "title_sidebar": "Contents",
   "toc_cell": true,
   "toc_position": {
    "height": "236px",
    "left": "723px",
    "top": "66px",
    "width": "350px"
   },
   "toc_section_display": true,
   "toc_window_display": true
  },
  "toc-autonumbering": false,
  "toc-showcode": false,
  "toc-showmarkdowntxt": false,
  "toc-showtags": false
 },
 "nbformat": 4,
 "nbformat_minor": 4
}
