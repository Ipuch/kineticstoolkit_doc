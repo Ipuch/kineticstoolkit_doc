{
 "cells": [
  {
   "cell_type": "markdown",
   "id": "mighty-springfield",
   "metadata": {},
   "source": [
    "Developer manual\n",
    "================\n",
    "\n",
    "This is a draft for an upcoming coding style for Kinetics Toolkit and other projects at the Research Lab on Mobility in Adaptive Sports."
   ]
  },
  {
   "cell_type": "markdown",
   "id": "fewer-david",
   "metadata": {},
   "source": [
    "Coding style\n",
    "------------"
   ]
  },
  {
   "cell_type": "markdown",
   "id": "unusual-newsletter",
   "metadata": {},
   "source": [
    "### Standard Python conventions\n",
    "\n",
    "We try, when possible, to match the guidelines presented in these documents:\n",
    "\n",
    "- [Style Guide for Python Code (PEP8)](https://pep8.org);\n",
    "\n",
    "- [Numpy Docstring](https://numpydoc.readthedocs.io/en/latest/format.html).\n",
    "\n",
    "Those are precious references and all other sections are additions to these references. Integrated desktop environments may help programmers to follow these conventions. For example, in Spyder, one could enable:\n",
    "\n",
    "- In `Preferences : Completion in linting : Code style and formatting : Code style`, check `Enable code style linting` to enable PEP8 linting;\n",
    "\n",
    "- In `Preferences : Completion in linting : Code style and formatting : Code formatting`, Select `autopep8` and check `Autoformat files on save` to ensure minimal PEP8 compliance at all times;\n",
    "\n",
    "- In `Preferences : Completion in linting : Docstring style`, check `Enable Docstring style linting` and select `Numpy`  to enable Numpy docstring linting."
   ]
  },
  {
   "cell_type": "markdown",
   "id": "5676c5a0-3e4f-44c3-afea-7161cd1fa8d4",
   "metadata": {},
   "source": [
    "### Quote style\n",
    "\n",
    "Strings are single-quoted or double-quoted following their meaning:\n",
    "\n",
    "- Most strings have single quotes:\n",
    "\n",
    "        kinetics['Forces'] = [0, 0, 0, 0]\n",
    "                \n",
    "\n",
    "- Strings that contain text in the form of messages have double quotes:\n",
    "\n",
    "        warnings.warn(\"This sample contains missing data\")\n",
    "        \n",
    "        dictionary['key'] = \"Please select an option.\""
   ]
  },
  {
   "cell_type": "markdown",
   "id": "demanding-pacific",
   "metadata": {},
   "source": [
    "### Naming conventions\n",
    "\n",
    "The following PEP8 conventions are used:\n",
    "\n",
    "- All code, comments and documentation are in **English**.\n",
    "\n",
    "- **Function names** are active (begin by a verb), and are in snake_case (lowercase words separated by underscores):\n",
    "\n",
    "        close, calculate_power, detect_cycles\n",
    "        \n",
    "\n",
    "- **Variable names** are passive, and are also in snake_case:\n",
    "\n",
    "        forces, detected_markers\n",
    "        \n",
    "\n",
    "- **Class names** are passive, and are in PascalCase (Capital first letters):\n",
    "\n",
    "        TimeSeries, Player\n",
    "        \n",
    "\n",
    "- **Constants** are passive, and are in UPPER_SNAKE (uppercase words separated by underscores):\n",
    "\n",
    "        CALIBRATION_MATRIX, WHEEL_RADIUS\n",
    "\n",
    "\n",
    "In addition, the following convention is used:\n",
    "\n",
    "- **Strings contents** for data flow and coding (e.g., keys, signal names) are passive form, and are in PascalCase:\n",
    "\n",
    "        contents['Forces'], kinematics.data['UpperArmR']\n",
    "        \n",
    "        dataframe.columns = ['WithBall', 'WithoutBall']\n",
    "        "
   ]
  },
  {
   "cell_type": "markdown",
   "id": "c44b3ad4-d15f-4945-b2c8-e98f5f38ac97",
   "metadata": {},
   "source": [
    "### Type hints\n",
    "\n",
    "Kinetics Toolkit is type-hinted, with static type checking performed by `mypy`. It does not use python 3.9 contained types yet, and therefore relies on the standard `typing` library."
   ]
  },
  {
   "cell_type": "code",
   "execution_count": null,
   "id": "d30b0453-4aac-470c-b123-752052e09aca",
   "metadata": {},
   "outputs": [],
   "source": [
    "import pandas as pd\n",
    "import numpy as np\n",
    "from typing import Dict\n",
    "\n",
    "\n",
    "def dataframe_to_dict_of_arrays(\n",
    "        dataframe: pd.DataFrame) -> Dict[str, np.ndarray]:\n",
    "    pass"
   ]
  },
  {
   "cell_type": "markdown",
   "id": "introductory-saying",
   "metadata": {},
   "source": [
    "Function life from development to deprecation\n",
    "---------------------------------------------\n",
    "\n",
    "New public functions appear and live in the following order:\n",
    "\n",
    "### Unstable\n",
    "\n",
    "These functions are currently being developed. They are considered public in the development API, and private in the stable API. They are decorated by the `@unstable` decorator, which automates the documentation of their unstable status both in their doctring and in the API documentation. This decorator automates the inclusion of these functions in the development API, and their exclusion from the stable API."
   ]
  },
  {
   "cell_type": "code",
   "execution_count": null,
   "id": "caring-celebration",
   "metadata": {},
   "outputs": [],
   "source": [
    "from kineticstoolkit.decorators import unstable\n",
    "\n",
    "\n",
    "@unstable\n",
    "def function_name(arguments: str) -> None:\n",
    "    \"\"\"Perform an operation.\"\"\"\n",
    "    pass  # Function contents"
   ]
  },
  {
   "cell_type": "markdown",
   "id": "48ffa958-ac2f-4404-a1da-54793fc0f3d4",
   "metadata": {},
   "source": [
    "### Experimental\n",
    "\n",
    "These objects are part of the API but are not considered stable yet. They are documented accordingly in their docstring, with the following text just before the parameters section (by replacing the version number):\n",
    "\n",
    "    Warning\n",
    "    -------\n",
    "    This function, which has been introduced in 0.4, is still experimental and\n",
    "    may change signature or behaviour in the future.\n",
    "\n",
    "They don't have a dedicated decorator."
   ]
  },
  {
   "cell_type": "markdown",
   "id": "dd83002d-0dea-4825-ba1a-0dc756d3a08b",
   "metadata": {},
   "source": [
    "### Stable\n",
    "\n",
    "Standard production function, without specific decorator or warning."
   ]
  },
  {
   "cell_type": "markdown",
   "id": "51c64208-0335-4b26-afde-1493b6d28dfc",
   "metadata": {},
   "source": [
    "### Deprecated\n",
    "\n",
    "Standard function, but decorated with the `@deprecated` decorator:"
   ]
  },
  {
   "cell_type": "code",
   "execution_count": null,
   "id": "spoken-monte",
   "metadata": {},
   "outputs": [],
   "source": [
    "from kineticstoolkit.decorators import deprecated\n",
    "\n",
    "\n",
    "@deprecated(since='0.1', until='0.2',\n",
    "            details='It has been replaced by `better_function` because '\n",
    "                    'the latter is much better.')\n",
    "def function_name(arguments: str) -> None:\n",
    "    \"\"\"Perform an operation.\"\"\"\n",
    "    pass  # Function contents"
   ]
  },
  {
   "cell_type": "markdown",
   "id": "2256a4a7-b4ef-4dbf-acab-060c32f20f5a",
   "metadata": {},
   "source": [
    "Feature development to release cycle\n",
    "------------------------------------"
   ]
  },
  {
   "cell_type": "markdown",
   "id": "3ec50f5e-7775-4165-bfeb-f6c1e117a297",
   "metadata": {},
   "source": [
    "### Feature branches\n",
    "\n",
    "Features are developed on `feature/feature_name` branches. All of the above should be done before going further:\n",
    "\n",
    "- Feature completed\n",
    "\n",
    "- Docstring completed\n",
    "\n",
    "- Doctest completed and passing (if relevant)\n",
    "\n",
    "- Unit test completed and passing\n",
    "\n",
    "\n",
    "Still on the feature branch, `ktk.dev.release()` should be run with success. This function runs `autopep8`, `mypy`, every unit test, builds all the tutorials, build the API and generates the static website.\n",
    "\n",
    "On success, the API should be navigated on the generated website to see if it rendered well.\n",
    "\n",
    "When all is done, the feature branch can be merged onto `master`."
   ]
  },
  {
   "cell_type": "markdown",
   "id": "b93fe00d-846d-4149-afd9-5b3ed6ecb3d8",
   "metadata": {},
   "source": [
    "### Master branch\n",
    "\n",
    "This is the main development branch, which hosts the most recent code and documentation. The development website's documentation automatically pulls from the master branch regularly.\n",
    "\n",
    "Everything on `master` should work, but new features (marked with the @unstable decorator) are not final."
   ]
  },
  {
   "cell_type": "markdown",
   "id": "be9e6598-357a-4e03-9894-da0e54fbb05c",
   "metadata": {},
   "source": [
    "### Stable branch\n",
    "\n",
    "This is the release branch that corresponds to the packages distributed on PyPI and conda-forge. This branch also hosts the main website's documentation. This site automatically pulls from the stable branch regularly.\n",
    "\n",
    "To make a release, one must:\n",
    "\n",
    "- Merge the master branch onto the stable branch;\n",
    "\n",
    "- Remove the @unstable decorators from the to-be-released function declarations;\n",
    "\n",
    "- Bump the version number in `kineticstoolkit/VERSION`\n",
    "\n",
    "- Run `ktk.dev.release()` and check the generated website, as for a normal commit on master;\n",
    "\n",
    "- Run `ktk.dev.compile_for_pypi()`;\n",
    "\n",
    "- Run `ktk.dev.upload_to_pypi()`.\n",
    "\n",
    "- Commit and tag the release on the stable branch.\n",
    "\n",
    "- Wait for conda-forge to detect the change on PyPI, and automatically create and merge a pull request on conda-forge."
   ]
  },
  {
   "cell_type": "code",
   "execution_count": null,
   "id": "7359c991-5956-4478-80be-824e5dbaf85f",
   "metadata": {},
   "outputs": [],
   "source": []
  }
 ],
 "metadata": {
  "kernelspec": {
   "display_name": "Python 3",
   "language": "python",
   "name": "python3"
  },
  "language_info": {
   "codemirror_mode": {
    "name": "ipython",
    "version": 3
   },
   "file_extension": ".py",
   "mimetype": "text/x-python",
   "name": "python",
   "nbconvert_exporter": "python",
   "pygments_lexer": "ipython3",
   "version": "3.8.10"
  }
 },
 "nbformat": 4,
 "nbformat_minor": 5
}
