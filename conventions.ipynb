{
 "cells": [
  {
   "cell_type": "markdown",
   "metadata": {},
   "source": [
    "Conventions\n",
    "===========\n",
    "\n",
    "Unless specified, Kinetics Toolkit uses the following conventions in all its modules.\n",
    "\n",
    "SI Units\n",
    "--------\n",
    "\n",
    "Every quantities are expressed in International System units (SI). As a reminder:\n",
    "\n",
    "- Time: second (s)\n",
    "- Length: meter (m)\n",
    "- Angle: radian (rad)\n",
    "- Mass: kilogram (kg)\n",
    "- Force: newton (N)\n",
    "- Moment: newton-meter (Nm)\n",
    "- Power: watt (W)\n",
    "- Energy: joule (J)\n",
    "\n",
    "\n",
    "Time as first dimension\n",
    "-----------------------\n",
    "\n",
    "Unless specified, when a numpy array is used to express a quantity that varies over time, the time corresponds to the first dimension of the array. This convention will be reminded in the sections where it is the most important (e.g., TimeSeries, geometry)."
   ]
  }
 ],
 "metadata": {
  "kernelspec": {
   "display_name": "Python 3 (ipykernel)",
   "language": "python",
   "name": "python3"
  },
  "language_info": {
   "codemirror_mode": {
    "name": "ipython",
    "version": 3
   },
   "file_extension": ".py",
   "mimetype": "text/x-python",
   "name": "python",
   "nbconvert_exporter": "python",
   "pygments_lexer": "ipython3",
   "version": "3.8.10"
  }
 },
 "nbformat": 4,
 "nbformat_minor": 4
}
